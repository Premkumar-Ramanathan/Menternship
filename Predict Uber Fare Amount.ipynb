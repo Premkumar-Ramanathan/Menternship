{
 "cells": [
  {
   "cell_type": "code",
   "execution_count": 1,
   "metadata": {
    "colab": {
     "base_uri": "https://localhost:8080/"
    },
    "id": "ato955pWEc5B",
    "outputId": "0bc3f2bc-611d-4467-96a8-70cd8fd0482f"
   },
   "outputs": [
    {
     "name": "stdout",
     "output_type": "stream",
     "text": [
      "Defaulting to user installation because normal site-packages is not writeable\n",
      "Requirement already satisfied: haversine in c:\\users\\prem\\appdata\\roaming\\python\\python311\\site-packages (2.8.1)\n"
     ]
    }
   ],
   "source": [
    "!pip install haversine\n",
    "import warnings\n",
    "warnings.filterwarnings('ignore')\n",
    "import pandas as pd\n",
    "import numpy as np\n",
    "import matplotlib.pyplot as plt\n",
    "from sklearn.linear_model import LinearRegression\n",
    "import seaborn as sns\n",
    "import statsmodels\n",
    "import statsmodels.formula.api as smf\n",
    "import statsmodels.api as sm\n",
    "import sklearn\n",
    "from sklearn.model_selection import train_test_split\n",
    "from sklearn.metrics import mean_squared_error\n",
    "from sklearn.metrics import r2_score\n",
    "%matplotlib inline\n",
    "from haversine import haversine, Unit\n",
    "pd.set_option('display.max_columns', None)\n",
    "pd.set_option('display.max_rows', None)"
   ]
  },
  {
   "cell_type": "code",
   "execution_count": 2,
   "metadata": {
    "colab": {
     "base_uri": "https://localhost:8080/",
     "height": 206
    },
    "id": "L0SmRJr6Ec7W",
    "outputId": "1fe26b84-4bfe-4049-b20f-730a965658de"
   },
   "outputs": [
    {
     "data": {
      "text/html": [
       "<div>\n",
       "<style scoped>\n",
       "    .dataframe tbody tr th:only-of-type {\n",
       "        vertical-align: middle;\n",
       "    }\n",
       "\n",
       "    .dataframe tbody tr th {\n",
       "        vertical-align: top;\n",
       "    }\n",
       "\n",
       "    .dataframe thead th {\n",
       "        text-align: right;\n",
       "    }\n",
       "</style>\n",
       "<table border=\"1\" class=\"dataframe\">\n",
       "  <thead>\n",
       "    <tr style=\"text-align: right;\">\n",
       "      <th></th>\n",
       "      <th>Unnamed: 0</th>\n",
       "      <th>key</th>\n",
       "      <th>fare_amount</th>\n",
       "      <th>pickup_datetime</th>\n",
       "      <th>pickup_longitude</th>\n",
       "      <th>pickup_latitude</th>\n",
       "      <th>dropoff_longitude</th>\n",
       "      <th>dropoff_latitude</th>\n",
       "      <th>passenger_count</th>\n",
       "    </tr>\n",
       "  </thead>\n",
       "  <tbody>\n",
       "    <tr>\n",
       "      <th>0</th>\n",
       "      <td>24238194</td>\n",
       "      <td>2015-05-07 19:52:06.0000003</td>\n",
       "      <td>7.5</td>\n",
       "      <td>2015-05-07 19:52:06 UTC</td>\n",
       "      <td>-73.999817</td>\n",
       "      <td>40.738354</td>\n",
       "      <td>-73.999512</td>\n",
       "      <td>40.723217</td>\n",
       "      <td>1</td>\n",
       "    </tr>\n",
       "    <tr>\n",
       "      <th>1</th>\n",
       "      <td>27835199</td>\n",
       "      <td>2009-07-17 20:04:56.0000002</td>\n",
       "      <td>7.7</td>\n",
       "      <td>2009-07-17 20:04:56 UTC</td>\n",
       "      <td>-73.994355</td>\n",
       "      <td>40.728225</td>\n",
       "      <td>-73.994710</td>\n",
       "      <td>40.750325</td>\n",
       "      <td>1</td>\n",
       "    </tr>\n",
       "    <tr>\n",
       "      <th>2</th>\n",
       "      <td>44984355</td>\n",
       "      <td>2009-08-24 21:45:00.00000061</td>\n",
       "      <td>12.9</td>\n",
       "      <td>2009-08-24 21:45:00 UTC</td>\n",
       "      <td>-74.005043</td>\n",
       "      <td>40.740770</td>\n",
       "      <td>-73.962565</td>\n",
       "      <td>40.772647</td>\n",
       "      <td>1</td>\n",
       "    </tr>\n",
       "    <tr>\n",
       "      <th>3</th>\n",
       "      <td>25894730</td>\n",
       "      <td>2009-06-26 08:22:21.0000001</td>\n",
       "      <td>5.3</td>\n",
       "      <td>2009-06-26 08:22:21 UTC</td>\n",
       "      <td>-73.976124</td>\n",
       "      <td>40.790844</td>\n",
       "      <td>-73.965316</td>\n",
       "      <td>40.803349</td>\n",
       "      <td>3</td>\n",
       "    </tr>\n",
       "    <tr>\n",
       "      <th>4</th>\n",
       "      <td>17610152</td>\n",
       "      <td>2014-08-28 17:47:00.000000188</td>\n",
       "      <td>16.0</td>\n",
       "      <td>2014-08-28 17:47:00 UTC</td>\n",
       "      <td>-73.925023</td>\n",
       "      <td>40.744085</td>\n",
       "      <td>-73.973082</td>\n",
       "      <td>40.761247</td>\n",
       "      <td>5</td>\n",
       "    </tr>\n",
       "  </tbody>\n",
       "</table>\n",
       "</div>"
      ],
      "text/plain": [
       "   Unnamed: 0                            key  fare_amount  \\\n",
       "0    24238194    2015-05-07 19:52:06.0000003          7.5   \n",
       "1    27835199    2009-07-17 20:04:56.0000002          7.7   \n",
       "2    44984355   2009-08-24 21:45:00.00000061         12.9   \n",
       "3    25894730    2009-06-26 08:22:21.0000001          5.3   \n",
       "4    17610152  2014-08-28 17:47:00.000000188         16.0   \n",
       "\n",
       "           pickup_datetime  pickup_longitude  pickup_latitude  \\\n",
       "0  2015-05-07 19:52:06 UTC        -73.999817        40.738354   \n",
       "1  2009-07-17 20:04:56 UTC        -73.994355        40.728225   \n",
       "2  2009-08-24 21:45:00 UTC        -74.005043        40.740770   \n",
       "3  2009-06-26 08:22:21 UTC        -73.976124        40.790844   \n",
       "4  2014-08-28 17:47:00 UTC        -73.925023        40.744085   \n",
       "\n",
       "   dropoff_longitude  dropoff_latitude  passenger_count  \n",
       "0         -73.999512         40.723217                1  \n",
       "1         -73.994710         40.750325                1  \n",
       "2         -73.962565         40.772647                1  \n",
       "3         -73.965316         40.803349                3  \n",
       "4         -73.973082         40.761247                5  "
      ]
     },
     "execution_count": 2,
     "metadata": {},
     "output_type": "execute_result"
    }
   ],
   "source": [
    "df = pd.read_csv(r'uber.csv')\n",
    "df.head()"
   ]
  },
  {
   "cell_type": "code",
   "execution_count": 3,
   "metadata": {
    "colab": {
     "base_uri": "https://localhost:8080/"
    },
    "id": "5zbJvKxgL8C7",
    "outputId": "5c56bbda-68be-4396-c5b8-c045b126b0c0"
   },
   "outputs": [
    {
     "data": {
      "text/plain": [
       "(200000, 9)"
      ]
     },
     "execution_count": 3,
     "metadata": {},
     "output_type": "execute_result"
    }
   ],
   "source": [
    "df.shape"
   ]
  },
  {
   "cell_type": "code",
   "execution_count": 4,
   "metadata": {
    "colab": {
     "base_uri": "https://localhost:8080/"
    },
    "id": "O96LrkhMJCXa",
    "outputId": "e353f114-bef5-4b88-e34e-e345b481304b"
   },
   "outputs": [
    {
     "data": {
      "text/plain": [
       "Unnamed: 0           0\n",
       "key                  0\n",
       "fare_amount          0\n",
       "pickup_datetime      0\n",
       "pickup_longitude     0\n",
       "pickup_latitude      0\n",
       "dropoff_longitude    1\n",
       "dropoff_latitude     1\n",
       "passenger_count      0\n",
       "dtype: int64"
      ]
     },
     "execution_count": 4,
     "metadata": {},
     "output_type": "execute_result"
    }
   ],
   "source": [
    "df.isnull().sum()"
   ]
  },
  {
   "cell_type": "code",
   "execution_count": 5,
   "metadata": {
    "colab": {
     "base_uri": "https://localhost:8080/",
     "height": 300
    },
    "id": "Q8F14rtR_J9R",
    "outputId": "afb1407a-2aea-451c-8f65-15f612f6577d"
   },
   "outputs": [
    {
     "data": {
      "text/html": [
       "<div>\n",
       "<style scoped>\n",
       "    .dataframe tbody tr th:only-of-type {\n",
       "        vertical-align: middle;\n",
       "    }\n",
       "\n",
       "    .dataframe tbody tr th {\n",
       "        vertical-align: top;\n",
       "    }\n",
       "\n",
       "    .dataframe thead th {\n",
       "        text-align: right;\n",
       "    }\n",
       "</style>\n",
       "<table border=\"1\" class=\"dataframe\">\n",
       "  <thead>\n",
       "    <tr style=\"text-align: right;\">\n",
       "      <th></th>\n",
       "      <th>Unnamed: 0</th>\n",
       "      <th>fare_amount</th>\n",
       "      <th>pickup_longitude</th>\n",
       "      <th>pickup_latitude</th>\n",
       "      <th>dropoff_longitude</th>\n",
       "      <th>dropoff_latitude</th>\n",
       "      <th>passenger_count</th>\n",
       "    </tr>\n",
       "  </thead>\n",
       "  <tbody>\n",
       "    <tr>\n",
       "      <th>count</th>\n",
       "      <td>2.000000e+05</td>\n",
       "      <td>200000.000000</td>\n",
       "      <td>200000.000000</td>\n",
       "      <td>200000.000000</td>\n",
       "      <td>199999.000000</td>\n",
       "      <td>199999.000000</td>\n",
       "      <td>200000.000000</td>\n",
       "    </tr>\n",
       "    <tr>\n",
       "      <th>mean</th>\n",
       "      <td>2.771250e+07</td>\n",
       "      <td>11.359955</td>\n",
       "      <td>-72.527638</td>\n",
       "      <td>39.935885</td>\n",
       "      <td>-72.525292</td>\n",
       "      <td>39.923890</td>\n",
       "      <td>1.684535</td>\n",
       "    </tr>\n",
       "    <tr>\n",
       "      <th>std</th>\n",
       "      <td>1.601382e+07</td>\n",
       "      <td>9.901776</td>\n",
       "      <td>11.437787</td>\n",
       "      <td>7.720539</td>\n",
       "      <td>13.117408</td>\n",
       "      <td>6.794829</td>\n",
       "      <td>1.385997</td>\n",
       "    </tr>\n",
       "    <tr>\n",
       "      <th>min</th>\n",
       "      <td>1.000000e+00</td>\n",
       "      <td>-52.000000</td>\n",
       "      <td>-1340.648410</td>\n",
       "      <td>-74.015515</td>\n",
       "      <td>-3356.666300</td>\n",
       "      <td>-881.985513</td>\n",
       "      <td>0.000000</td>\n",
       "    </tr>\n",
       "    <tr>\n",
       "      <th>25%</th>\n",
       "      <td>1.382535e+07</td>\n",
       "      <td>6.000000</td>\n",
       "      <td>-73.992065</td>\n",
       "      <td>40.734796</td>\n",
       "      <td>-73.991407</td>\n",
       "      <td>40.733823</td>\n",
       "      <td>1.000000</td>\n",
       "    </tr>\n",
       "    <tr>\n",
       "      <th>50%</th>\n",
       "      <td>2.774550e+07</td>\n",
       "      <td>8.500000</td>\n",
       "      <td>-73.981823</td>\n",
       "      <td>40.752592</td>\n",
       "      <td>-73.980093</td>\n",
       "      <td>40.753042</td>\n",
       "      <td>1.000000</td>\n",
       "    </tr>\n",
       "    <tr>\n",
       "      <th>75%</th>\n",
       "      <td>4.155530e+07</td>\n",
       "      <td>12.500000</td>\n",
       "      <td>-73.967154</td>\n",
       "      <td>40.767158</td>\n",
       "      <td>-73.963658</td>\n",
       "      <td>40.768001</td>\n",
       "      <td>2.000000</td>\n",
       "    </tr>\n",
       "    <tr>\n",
       "      <th>max</th>\n",
       "      <td>5.542357e+07</td>\n",
       "      <td>499.000000</td>\n",
       "      <td>57.418457</td>\n",
       "      <td>1644.421482</td>\n",
       "      <td>1153.572603</td>\n",
       "      <td>872.697628</td>\n",
       "      <td>208.000000</td>\n",
       "    </tr>\n",
       "  </tbody>\n",
       "</table>\n",
       "</div>"
      ],
      "text/plain": [
       "         Unnamed: 0    fare_amount  pickup_longitude  pickup_latitude  \\\n",
       "count  2.000000e+05  200000.000000     200000.000000    200000.000000   \n",
       "mean   2.771250e+07      11.359955        -72.527638        39.935885   \n",
       "std    1.601382e+07       9.901776         11.437787         7.720539   \n",
       "min    1.000000e+00     -52.000000      -1340.648410       -74.015515   \n",
       "25%    1.382535e+07       6.000000        -73.992065        40.734796   \n",
       "50%    2.774550e+07       8.500000        -73.981823        40.752592   \n",
       "75%    4.155530e+07      12.500000        -73.967154        40.767158   \n",
       "max    5.542357e+07     499.000000         57.418457      1644.421482   \n",
       "\n",
       "       dropoff_longitude  dropoff_latitude  passenger_count  \n",
       "count      199999.000000     199999.000000    200000.000000  \n",
       "mean          -72.525292         39.923890         1.684535  \n",
       "std            13.117408          6.794829         1.385997  \n",
       "min         -3356.666300       -881.985513         0.000000  \n",
       "25%           -73.991407         40.733823         1.000000  \n",
       "50%           -73.980093         40.753042         1.000000  \n",
       "75%           -73.963658         40.768001         2.000000  \n",
       "max          1153.572603        872.697628       208.000000  "
      ]
     },
     "execution_count": 5,
     "metadata": {},
     "output_type": "execute_result"
    }
   ],
   "source": [
    "df.describe()"
   ]
  },
  {
   "cell_type": "code",
   "execution_count": 6,
   "metadata": {
    "colab": {
     "base_uri": "https://localhost:8080/"
    },
    "id": "Gls-vLDDMAZ_",
    "outputId": "9ec3fcea-d158-4d7c-b78b-ff3c45067af8"
   },
   "outputs": [
    {
     "name": "stdout",
     "output_type": "stream",
     "text": [
      "       Unnamed: 0                          key  fare_amount  \\\n",
      "87946    32736015  2013-07-02 03:51:57.0000001         24.1   \n",
      "\n",
      "               pickup_datetime  pickup_longitude  pickup_latitude  \\\n",
      "87946  2013-07-02 03:51:57 UTC        -73.950581        40.779692   \n",
      "\n",
      "       dropoff_longitude  dropoff_latitude  passenger_count  \n",
      "87946                NaN               NaN                0  \n"
     ]
    }
   ],
   "source": [
    "r1null = df[df['dropoff_latitude'].isnull()]\n",
    "print(r1null)"
   ]
  },
  {
   "cell_type": "code",
   "execution_count": 7,
   "metadata": {
    "colab": {
     "base_uri": "https://localhost:8080/"
    },
    "id": "Fd2FrwtcMAcZ",
    "outputId": "a398780d-e388-40ac-9982-03aa046459e5"
   },
   "outputs": [
    {
     "name": "stdout",
     "output_type": "stream",
     "text": [
      "       Unnamed: 0                          key  fare_amount  \\\n",
      "87946    32736015  2013-07-02 03:51:57.0000001         24.1   \n",
      "\n",
      "               pickup_datetime  pickup_longitude  pickup_latitude  \\\n",
      "87946  2013-07-02 03:51:57 UTC        -73.950581        40.779692   \n",
      "\n",
      "       dropoff_longitude  dropoff_latitude  passenger_count  \n",
      "87946                NaN               NaN                0  \n"
     ]
    }
   ],
   "source": [
    "r2null = df[df['dropoff_longitude'].isnull()]\n",
    "print(r2null)"
   ]
  },
  {
   "cell_type": "code",
   "execution_count": 8,
   "metadata": {
    "id": "lTlHazcmMAe1"
   },
   "outputs": [],
   "source": [
    "df=df.dropna()"
   ]
  },
  {
   "cell_type": "code",
   "execution_count": 9,
   "metadata": {
    "colab": {
     "base_uri": "https://localhost:8080/"
    },
    "id": "5ax6dHYeM86s",
    "outputId": "95393b6b-e63d-4fe3-d5e8-47dfcd02ca58"
   },
   "outputs": [
    {
     "data": {
      "text/plain": [
       "Unnamed: 0           0\n",
       "key                  0\n",
       "fare_amount          0\n",
       "pickup_datetime      0\n",
       "pickup_longitude     0\n",
       "pickup_latitude      0\n",
       "dropoff_longitude    0\n",
       "dropoff_latitude     0\n",
       "passenger_count      0\n",
       "dtype: int64"
      ]
     },
     "execution_count": 9,
     "metadata": {},
     "output_type": "execute_result"
    }
   ],
   "source": [
    "df.isnull().sum()"
   ]
  },
  {
   "cell_type": "code",
   "execution_count": 10,
   "metadata": {
    "colab": {
     "base_uri": "https://localhost:8080/"
    },
    "id": "4Nv-E6t0M8_O",
    "outputId": "074b7c85-6a8e-4302-eb35-bfe9f4cb6576"
   },
   "outputs": [
    {
     "data": {
      "text/plain": [
       "(199999, 9)"
      ]
     },
     "execution_count": 10,
     "metadata": {},
     "output_type": "execute_result"
    }
   ],
   "source": [
    "df.shape"
   ]
  },
  {
   "cell_type": "code",
   "execution_count": 11,
   "metadata": {
    "id": "tF9bxJWFIer2"
   },
   "outputs": [],
   "source": [
    "df['key'] = pd.to_datetime(df['key'])"
   ]
  },
  {
   "cell_type": "code",
   "execution_count": 12,
   "metadata": {
    "id": "eQcw0Rt7IeuQ"
   },
   "outputs": [],
   "source": [
    "df['pickup_datetime'] = pd.to_datetime(df['pickup_datetime'])"
   ]
  },
  {
   "cell_type": "code",
   "execution_count": 13,
   "metadata": {
    "colab": {
     "base_uri": "https://localhost:8080/"
    },
    "id": "q45fOEEJIexs",
    "outputId": "2d5c5690-720c-4d9f-bec6-faffef5aa952"
   },
   "outputs": [
    {
     "name": "stdout",
     "output_type": "stream",
     "text": [
      "<class 'pandas.core.frame.DataFrame'>\n",
      "Index: 199999 entries, 0 to 199999\n",
      "Data columns (total 9 columns):\n",
      " #   Column             Non-Null Count   Dtype              \n",
      "---  ------             --------------   -----              \n",
      " 0   Unnamed: 0         199999 non-null  int64              \n",
      " 1   key                199999 non-null  datetime64[ns]     \n",
      " 2   fare_amount        199999 non-null  float64            \n",
      " 3   pickup_datetime    199999 non-null  datetime64[ns, UTC]\n",
      " 4   pickup_longitude   199999 non-null  float64            \n",
      " 5   pickup_latitude    199999 non-null  float64            \n",
      " 6   dropoff_longitude  199999 non-null  float64            \n",
      " 7   dropoff_latitude   199999 non-null  float64            \n",
      " 8   passenger_count    199999 non-null  int64              \n",
      "dtypes: datetime64[ns, UTC](1), datetime64[ns](1), float64(5), int64(2)\n",
      "memory usage: 15.3 MB\n"
     ]
    }
   ],
   "source": [
    "df.info()"
   ]
  },
  {
   "cell_type": "code",
   "execution_count": 14,
   "metadata": {
    "colab": {
     "base_uri": "https://localhost:8080/"
    },
    "id": "Yyd4-XlJEa3Y",
    "outputId": "f70a1c96-98bb-48bc-c650-930536e89c0a"
   },
   "outputs": [
    {
     "name": "stdout",
     "output_type": "stream",
     "text": [
      "-74.01551500000001\n",
      "-1340.64841\n",
      "-881.9855130000001\n",
      "-3356.6663\n",
      "\n",
      "1644.421482\n",
      "57.418457\n",
      "872.6976279999999\n",
      "1153.5726029999998\n"
     ]
    }
   ],
   "source": [
    "print(df['pickup_latitude'].min())\n",
    "print(df['pickup_longitude'].min())\n",
    "print(df['dropoff_latitude'].min())\n",
    "print(df['dropoff_longitude'].min())\n",
    "print()\n",
    "print(df['pickup_latitude'].max())\n",
    "print(df['pickup_longitude'].max())\n",
    "print(df['dropoff_latitude'].max())\n",
    "print(df['dropoff_longitude'].max())"
   ]
  },
  {
   "cell_type": "code",
   "execution_count": 15,
   "metadata": {
    "id": "LiFpguhlEa5z"
   },
   "outputs": [],
   "source": [
    "# US Latitude Longitude ranges from (24 to 49 Latitude) and (-66 to -125 Longitude)\n",
    "# Delete latitude and longitude falling outside this range\n",
    "lat = [24, 49]\n",
    "lon = [-66, -125]\n",
    "\n",
    "#delete = (df['pickup_latitude'] < 24) | (df['pickup_latitude'] > 49 )\n",
    "\n",
    "df['invalid_pic_latitude'] = ((df['pickup_latitude'] < lat[0]) | (df['pickup_latitude'] > lat[1]))\n",
    "df['invalid_pic_longitude'] = ((df['pickup_longitude'] > lon[0]) | (df['pickup_longitude'] < lon[1]))\n",
    "df['invalid_drop_latitude'] = ((df['dropoff_latitude'] < lat[0]) | (df['dropoff_latitude'] > lat[1]))\n",
    "df['invalid_drop_longitude'] = ((df['dropoff_longitude'] > lon[0]) | (df['dropoff_longitude'] < lon[1]))\n",
    "\n",
    "df['invalid_pic_latitude'] = df['invalid_pic_latitude'].astype(int)\n",
    "df['invalid_pic_longitude'] = df['invalid_pic_longitude'].astype(int)\n",
    "df['invalid_drop_latitude'] = df['invalid_drop_latitude'].astype(int)\n",
    "df['invalid_drop_longitude'] = df['invalid_drop_longitude'].astype(int)"
   ]
  },
  {
   "cell_type": "code",
   "execution_count": 16,
   "metadata": {
    "colab": {
     "base_uri": "https://localhost:8080/",
     "height": 330
    },
    "id": "17B_wVJD_J9U",
    "outputId": "02abe494-7f2e-4356-d271-028f310638c8"
   },
   "outputs": [
    {
     "data": {
      "text/html": [
       "<div>\n",
       "<style scoped>\n",
       "    .dataframe tbody tr th:only-of-type {\n",
       "        vertical-align: middle;\n",
       "    }\n",
       "\n",
       "    .dataframe tbody tr th {\n",
       "        vertical-align: top;\n",
       "    }\n",
       "\n",
       "    .dataframe thead th {\n",
       "        text-align: right;\n",
       "    }\n",
       "</style>\n",
       "<table border=\"1\" class=\"dataframe\">\n",
       "  <thead>\n",
       "    <tr style=\"text-align: right;\">\n",
       "      <th></th>\n",
       "      <th>Unnamed: 0</th>\n",
       "      <th>key</th>\n",
       "      <th>fare_amount</th>\n",
       "      <th>pickup_datetime</th>\n",
       "      <th>pickup_longitude</th>\n",
       "      <th>pickup_latitude</th>\n",
       "      <th>dropoff_longitude</th>\n",
       "      <th>dropoff_latitude</th>\n",
       "      <th>passenger_count</th>\n",
       "      <th>invalid_pic_latitude</th>\n",
       "      <th>invalid_pic_longitude</th>\n",
       "      <th>invalid_drop_latitude</th>\n",
       "      <th>invalid_drop_longitude</th>\n",
       "    </tr>\n",
       "  </thead>\n",
       "  <tbody>\n",
       "    <tr>\n",
       "      <th>7</th>\n",
       "      <td>44195482</td>\n",
       "      <td>2012-12-11 13:52:00.000000290</td>\n",
       "      <td>2.5</td>\n",
       "      <td>2012-12-11 13:52:00+00:00</td>\n",
       "      <td>0.0</td>\n",
       "      <td>0.0</td>\n",
       "      <td>0.0</td>\n",
       "      <td>0.0</td>\n",
       "      <td>1</td>\n",
       "      <td>1</td>\n",
       "      <td>1</td>\n",
       "      <td>1</td>\n",
       "      <td>1</td>\n",
       "    </tr>\n",
       "    <tr>\n",
       "      <th>11</th>\n",
       "      <td>6379048</td>\n",
       "      <td>2011-05-23 22:15:00.000000860</td>\n",
       "      <td>8.5</td>\n",
       "      <td>2011-05-23 22:15:00+00:00</td>\n",
       "      <td>0.0</td>\n",
       "      <td>0.0</td>\n",
       "      <td>0.0</td>\n",
       "      <td>0.0</td>\n",
       "      <td>1</td>\n",
       "      <td>1</td>\n",
       "      <td>1</td>\n",
       "      <td>1</td>\n",
       "      <td>1</td>\n",
       "    </tr>\n",
       "    <tr>\n",
       "      <th>65</th>\n",
       "      <td>21993993</td>\n",
       "      <td>2014-05-05 19:27:00.000000340</td>\n",
       "      <td>6.0</td>\n",
       "      <td>2014-05-05 19:27:00+00:00</td>\n",
       "      <td>0.0</td>\n",
       "      <td>0.0</td>\n",
       "      <td>0.0</td>\n",
       "      <td>0.0</td>\n",
       "      <td>1</td>\n",
       "      <td>1</td>\n",
       "      <td>1</td>\n",
       "      <td>1</td>\n",
       "      <td>1</td>\n",
       "    </tr>\n",
       "    <tr>\n",
       "      <th>92</th>\n",
       "      <td>1454546</td>\n",
       "      <td>2011-12-02 14:07:00.000000207</td>\n",
       "      <td>6.1</td>\n",
       "      <td>2011-12-02 14:07:00+00:00</td>\n",
       "      <td>0.0</td>\n",
       "      <td>0.0</td>\n",
       "      <td>0.0</td>\n",
       "      <td>0.0</td>\n",
       "      <td>1</td>\n",
       "      <td>1</td>\n",
       "      <td>1</td>\n",
       "      <td>1</td>\n",
       "      <td>1</td>\n",
       "    </tr>\n",
       "    <tr>\n",
       "      <th>120</th>\n",
       "      <td>17358122</td>\n",
       "      <td>2010-08-20 19:39:48.000000300</td>\n",
       "      <td>6.5</td>\n",
       "      <td>2010-08-20 19:39:48+00:00</td>\n",
       "      <td>0.0</td>\n",
       "      <td>0.0</td>\n",
       "      <td>0.0</td>\n",
       "      <td>0.0</td>\n",
       "      <td>1</td>\n",
       "      <td>1</td>\n",
       "      <td>1</td>\n",
       "      <td>1</td>\n",
       "      <td>1</td>\n",
       "    </tr>\n",
       "  </tbody>\n",
       "</table>\n",
       "</div>"
      ],
      "text/plain": [
       "     Unnamed: 0                           key  fare_amount  \\\n",
       "7      44195482 2012-12-11 13:52:00.000000290          2.5   \n",
       "11      6379048 2011-05-23 22:15:00.000000860          8.5   \n",
       "65     21993993 2014-05-05 19:27:00.000000340          6.0   \n",
       "92      1454546 2011-12-02 14:07:00.000000207          6.1   \n",
       "120    17358122 2010-08-20 19:39:48.000000300          6.5   \n",
       "\n",
       "              pickup_datetime  pickup_longitude  pickup_latitude  \\\n",
       "7   2012-12-11 13:52:00+00:00               0.0              0.0   \n",
       "11  2011-05-23 22:15:00+00:00               0.0              0.0   \n",
       "65  2014-05-05 19:27:00+00:00               0.0              0.0   \n",
       "92  2011-12-02 14:07:00+00:00               0.0              0.0   \n",
       "120 2010-08-20 19:39:48+00:00               0.0              0.0   \n",
       "\n",
       "     dropoff_longitude  dropoff_latitude  passenger_count  \\\n",
       "7                  0.0               0.0                1   \n",
       "11                 0.0               0.0                1   \n",
       "65                 0.0               0.0                1   \n",
       "92                 0.0               0.0                1   \n",
       "120                0.0               0.0                1   \n",
       "\n",
       "     invalid_pic_latitude  invalid_pic_longitude  invalid_drop_latitude  \\\n",
       "7                       1                      1                      1   \n",
       "11                      1                      1                      1   \n",
       "65                      1                      1                      1   \n",
       "92                      1                      1                      1   \n",
       "120                     1                      1                      1   \n",
       "\n",
       "     invalid_drop_longitude  \n",
       "7                         1  \n",
       "11                        1  \n",
       "65                        1  \n",
       "92                        1  \n",
       "120                       1  "
      ]
     },
     "execution_count": 16,
     "metadata": {},
     "output_type": "execute_result"
    }
   ],
   "source": [
    "df[(df['invalid_pic_latitude']==1) | (df['invalid_pic_longitude']==1) | (df['invalid_drop_latitude']==1) | (df['invalid_drop_longitude']==1)].head()"
   ]
  },
  {
   "cell_type": "code",
   "execution_count": 17,
   "metadata": {
    "id": "x4dCtsf8_J9V"
   },
   "outputs": [],
   "source": [
    "df = df[(df['invalid_pic_latitude']!=1)]\n",
    "df = df[(df['invalid_pic_longitude']!=1)]\n",
    "df = df[(df['invalid_drop_latitude']!=1)]\n",
    "df = df[(df['invalid_drop_longitude']!=1)]"
   ]
  },
  {
   "cell_type": "code",
   "execution_count": 18,
   "metadata": {
    "colab": {
     "base_uri": "https://localhost:8080/",
     "height": 330
    },
    "id": "8r3pZp-m_J9V",
    "outputId": "80e3f659-a568-4a2b-8997-a96d83944bb1"
   },
   "outputs": [
    {
     "data": {
      "text/html": [
       "<div>\n",
       "<style scoped>\n",
       "    .dataframe tbody tr th:only-of-type {\n",
       "        vertical-align: middle;\n",
       "    }\n",
       "\n",
       "    .dataframe tbody tr th {\n",
       "        vertical-align: top;\n",
       "    }\n",
       "\n",
       "    .dataframe thead th {\n",
       "        text-align: right;\n",
       "    }\n",
       "</style>\n",
       "<table border=\"1\" class=\"dataframe\">\n",
       "  <thead>\n",
       "    <tr style=\"text-align: right;\">\n",
       "      <th></th>\n",
       "      <th>Unnamed: 0</th>\n",
       "      <th>key</th>\n",
       "      <th>fare_amount</th>\n",
       "      <th>pickup_datetime</th>\n",
       "      <th>pickup_longitude</th>\n",
       "      <th>pickup_latitude</th>\n",
       "      <th>dropoff_longitude</th>\n",
       "      <th>dropoff_latitude</th>\n",
       "      <th>passenger_count</th>\n",
       "      <th>invalid_pic_latitude</th>\n",
       "      <th>invalid_pic_longitude</th>\n",
       "      <th>invalid_drop_latitude</th>\n",
       "      <th>invalid_drop_longitude</th>\n",
       "    </tr>\n",
       "  </thead>\n",
       "  <tbody>\n",
       "    <tr>\n",
       "      <th>0</th>\n",
       "      <td>24238194</td>\n",
       "      <td>2015-05-07 19:52:06.000000300</td>\n",
       "      <td>7.5</td>\n",
       "      <td>2015-05-07 19:52:06+00:00</td>\n",
       "      <td>-73.999817</td>\n",
       "      <td>40.738354</td>\n",
       "      <td>-73.999512</td>\n",
       "      <td>40.723217</td>\n",
       "      <td>1</td>\n",
       "      <td>0</td>\n",
       "      <td>0</td>\n",
       "      <td>0</td>\n",
       "      <td>0</td>\n",
       "    </tr>\n",
       "    <tr>\n",
       "      <th>1</th>\n",
       "      <td>27835199</td>\n",
       "      <td>2009-07-17 20:04:56.000000200</td>\n",
       "      <td>7.7</td>\n",
       "      <td>2009-07-17 20:04:56+00:00</td>\n",
       "      <td>-73.994355</td>\n",
       "      <td>40.728225</td>\n",
       "      <td>-73.994710</td>\n",
       "      <td>40.750325</td>\n",
       "      <td>1</td>\n",
       "      <td>0</td>\n",
       "      <td>0</td>\n",
       "      <td>0</td>\n",
       "      <td>0</td>\n",
       "    </tr>\n",
       "    <tr>\n",
       "      <th>2</th>\n",
       "      <td>44984355</td>\n",
       "      <td>2009-08-24 21:45:00.000000610</td>\n",
       "      <td>12.9</td>\n",
       "      <td>2009-08-24 21:45:00+00:00</td>\n",
       "      <td>-74.005043</td>\n",
       "      <td>40.740770</td>\n",
       "      <td>-73.962565</td>\n",
       "      <td>40.772647</td>\n",
       "      <td>1</td>\n",
       "      <td>0</td>\n",
       "      <td>0</td>\n",
       "      <td>0</td>\n",
       "      <td>0</td>\n",
       "    </tr>\n",
       "    <tr>\n",
       "      <th>3</th>\n",
       "      <td>25894730</td>\n",
       "      <td>2009-06-26 08:22:21.000000100</td>\n",
       "      <td>5.3</td>\n",
       "      <td>2009-06-26 08:22:21+00:00</td>\n",
       "      <td>-73.976124</td>\n",
       "      <td>40.790844</td>\n",
       "      <td>-73.965316</td>\n",
       "      <td>40.803349</td>\n",
       "      <td>3</td>\n",
       "      <td>0</td>\n",
       "      <td>0</td>\n",
       "      <td>0</td>\n",
       "      <td>0</td>\n",
       "    </tr>\n",
       "    <tr>\n",
       "      <th>4</th>\n",
       "      <td>17610152</td>\n",
       "      <td>2014-08-28 17:47:00.000000188</td>\n",
       "      <td>16.0</td>\n",
       "      <td>2014-08-28 17:47:00+00:00</td>\n",
       "      <td>-73.925023</td>\n",
       "      <td>40.744085</td>\n",
       "      <td>-73.973082</td>\n",
       "      <td>40.761247</td>\n",
       "      <td>5</td>\n",
       "      <td>0</td>\n",
       "      <td>0</td>\n",
       "      <td>0</td>\n",
       "      <td>0</td>\n",
       "    </tr>\n",
       "  </tbody>\n",
       "</table>\n",
       "</div>"
      ],
      "text/plain": [
       "   Unnamed: 0                           key  fare_amount  \\\n",
       "0    24238194 2015-05-07 19:52:06.000000300          7.5   \n",
       "1    27835199 2009-07-17 20:04:56.000000200          7.7   \n",
       "2    44984355 2009-08-24 21:45:00.000000610         12.9   \n",
       "3    25894730 2009-06-26 08:22:21.000000100          5.3   \n",
       "4    17610152 2014-08-28 17:47:00.000000188         16.0   \n",
       "\n",
       "            pickup_datetime  pickup_longitude  pickup_latitude  \\\n",
       "0 2015-05-07 19:52:06+00:00        -73.999817        40.738354   \n",
       "1 2009-07-17 20:04:56+00:00        -73.994355        40.728225   \n",
       "2 2009-08-24 21:45:00+00:00        -74.005043        40.740770   \n",
       "3 2009-06-26 08:22:21+00:00        -73.976124        40.790844   \n",
       "4 2014-08-28 17:47:00+00:00        -73.925023        40.744085   \n",
       "\n",
       "   dropoff_longitude  dropoff_latitude  passenger_count  invalid_pic_latitude  \\\n",
       "0         -73.999512         40.723217                1                     0   \n",
       "1         -73.994710         40.750325                1                     0   \n",
       "2         -73.962565         40.772647                1                     0   \n",
       "3         -73.965316         40.803349                3                     0   \n",
       "4         -73.973082         40.761247                5                     0   \n",
       "\n",
       "   invalid_pic_longitude  invalid_drop_latitude  invalid_drop_longitude  \n",
       "0                      0                      0                       0  \n",
       "1                      0                      0                       0  \n",
       "2                      0                      0                       0  \n",
       "3                      0                      0                       0  \n",
       "4                      0                      0                       0  "
      ]
     },
     "execution_count": 18,
     "metadata": {},
     "output_type": "execute_result"
    }
   ],
   "source": [
    "df.head()"
   ]
  },
  {
   "cell_type": "code",
   "execution_count": 19,
   "metadata": {
    "id": "36y57sCg_J9W"
   },
   "outputs": [],
   "source": [
    "df['distance_km'] = df.apply(lambda row: haversine((row['pickup_latitude'], row['pickup_longitude']), (row['dropoff_latitude'], row['dropoff_longitude']),\n",
    "                                                   unit=Unit.KILOMETERS), axis=1)"
   ]
  },
  {
   "cell_type": "code",
   "execution_count": 20,
   "metadata": {
    "id": "KTBWjlrC_J9W"
   },
   "outputs": [],
   "source": [
    "#df['distance_mi'] = df.apply(lambda row: haversine((row['pickup_latitude'], row['pickup_longitude']), (row['dropoff_latitude'], row['dropoff_longitude']),\n",
    "#                                                   unit=Unit.MILES), axis=1)"
   ]
  },
  {
   "cell_type": "code",
   "execution_count": 21,
   "metadata": {
    "colab": {
     "base_uri": "https://localhost:8080/"
    },
    "id": "5Vwmg5lA_J9W",
    "outputId": "d0e91127-e73e-4228-f6a2-73d241b93d8c"
   },
   "outputs": [
    {
     "name": "stdout",
     "output_type": "stream",
     "text": [
      "32.005119\n",
      "-89.93333299999999\n",
      "37.53309\n",
      "-75.458978633981\n",
      "\n",
      "48.01876\n",
      "-67.37035999999999\n",
      "45.031598\n",
      "-69.046738\n"
     ]
    }
   ],
   "source": [
    "print(df['pickup_latitude'].min())\n",
    "print(df['pickup_longitude'].min())\n",
    "print(df['dropoff_latitude'].min())\n",
    "print(df['dropoff_longitude'].min())\n",
    "print()\n",
    "print(df['pickup_latitude'].max())\n",
    "print(df['pickup_longitude'].max())\n",
    "print(df['dropoff_latitude'].max())\n",
    "print(df['dropoff_longitude'].max())"
   ]
  },
  {
   "cell_type": "code",
   "execution_count": 22,
   "metadata": {
    "colab": {
     "base_uri": "https://localhost:8080/",
     "height": 329
    },
    "id": "zBq_qgpY_J9W",
    "outputId": "0fc0d9d1-286a-4576-a229-8b9a5c353bb0"
   },
   "outputs": [
    {
     "data": {
      "text/plain": [
       "<Axes: xlabel='distance_km', ylabel='fare_amount'>"
      ]
     },
     "execution_count": 22,
     "metadata": {},
     "output_type": "execute_result"
    },
    {
     "data": {
      "image/png": "[encoded data removed]",
      "text/plain": [
       "<Figure size 800x300 with 1 Axes>"
      ]
     },
     "metadata": {},
     "output_type": "display_data"
    }
   ],
   "source": [
    "plt.figure(figsize = (8,3))\n",
    "sns.scatterplot(data = df, x = 'distance_km', y = 'fare_amount')"
   ]
  },
  {
   "cell_type": "code",
   "execution_count": 23,
   "metadata": {
    "id": "vPmkvXLc_J9W"
   },
   "outputs": [],
   "source": [
    "df.drop(columns='invalid_pic_latitude', inplace=True)\n",
    "df.drop(columns='invalid_pic_longitude', inplace=True)\n",
    "df.drop(columns='invalid_drop_latitude', inplace=True)\n",
    "df.drop(columns='invalid_drop_longitude', inplace=True)"
   ]
  },
  {
   "cell_type": "code",
   "execution_count": 24,
   "metadata": {
    "colab": {
     "base_uri": "https://localhost:8080/",
     "height": 206
    },
    "id": "y1rBvJ7S_J9W",
    "outputId": "aaab2366-8fb9-4ee8-d37d-fc7e9a190abb"
   },
   "outputs": [
    {
     "data": {
      "text/html": [
       "<div>\n",
       "<style scoped>\n",
       "    .dataframe tbody tr th:only-of-type {\n",
       "        vertical-align: middle;\n",
       "    }\n",
       "\n",
       "    .dataframe tbody tr th {\n",
       "        vertical-align: top;\n",
       "    }\n",
       "\n",
       "    .dataframe thead th {\n",
       "        text-align: right;\n",
       "    }\n",
       "</style>\n",
       "<table border=\"1\" class=\"dataframe\">\n",
       "  <thead>\n",
       "    <tr style=\"text-align: right;\">\n",
       "      <th></th>\n",
       "      <th>Unnamed: 0</th>\n",
       "      <th>key</th>\n",
       "      <th>fare_amount</th>\n",
       "      <th>pickup_datetime</th>\n",
       "      <th>pickup_longitude</th>\n",
       "      <th>pickup_latitude</th>\n",
       "      <th>dropoff_longitude</th>\n",
       "      <th>dropoff_latitude</th>\n",
       "      <th>passenger_count</th>\n",
       "      <th>distance_km</th>\n",
       "    </tr>\n",
       "  </thead>\n",
       "  <tbody>\n",
       "    <tr>\n",
       "      <th>0</th>\n",
       "      <td>24238194</td>\n",
       "      <td>2015-05-07 19:52:06.000000300</td>\n",
       "      <td>7.5</td>\n",
       "      <td>2015-05-07 19:52:06+00:00</td>\n",
       "      <td>-73.999817</td>\n",
       "      <td>40.738354</td>\n",
       "      <td>-73.999512</td>\n",
       "      <td>40.723217</td>\n",
       "      <td>1</td>\n",
       "      <td>1.683325</td>\n",
       "    </tr>\n",
       "    <tr>\n",
       "      <th>1</th>\n",
       "      <td>27835199</td>\n",
       "      <td>2009-07-17 20:04:56.000000200</td>\n",
       "      <td>7.7</td>\n",
       "      <td>2009-07-17 20:04:56+00:00</td>\n",
       "      <td>-73.994355</td>\n",
       "      <td>40.728225</td>\n",
       "      <td>-73.994710</td>\n",
       "      <td>40.750325</td>\n",
       "      <td>1</td>\n",
       "      <td>2.457593</td>\n",
       "    </tr>\n",
       "    <tr>\n",
       "      <th>2</th>\n",
       "      <td>44984355</td>\n",
       "      <td>2009-08-24 21:45:00.000000610</td>\n",
       "      <td>12.9</td>\n",
       "      <td>2009-08-24 21:45:00+00:00</td>\n",
       "      <td>-74.005043</td>\n",
       "      <td>40.740770</td>\n",
       "      <td>-73.962565</td>\n",
       "      <td>40.772647</td>\n",
       "      <td>1</td>\n",
       "      <td>5.036384</td>\n",
       "    </tr>\n",
       "    <tr>\n",
       "      <th>3</th>\n",
       "      <td>25894730</td>\n",
       "      <td>2009-06-26 08:22:21.000000100</td>\n",
       "      <td>5.3</td>\n",
       "      <td>2009-06-26 08:22:21+00:00</td>\n",
       "      <td>-73.976124</td>\n",
       "      <td>40.790844</td>\n",
       "      <td>-73.965316</td>\n",
       "      <td>40.803349</td>\n",
       "      <td>3</td>\n",
       "      <td>1.661686</td>\n",
       "    </tr>\n",
       "    <tr>\n",
       "      <th>4</th>\n",
       "      <td>17610152</td>\n",
       "      <td>2014-08-28 17:47:00.000000188</td>\n",
       "      <td>16.0</td>\n",
       "      <td>2014-08-28 17:47:00+00:00</td>\n",
       "      <td>-73.925023</td>\n",
       "      <td>40.744085</td>\n",
       "      <td>-73.973082</td>\n",
       "      <td>40.761247</td>\n",
       "      <td>5</td>\n",
       "      <td>4.475456</td>\n",
       "    </tr>\n",
       "  </tbody>\n",
       "</table>\n",
       "</div>"
      ],
      "text/plain": [
       "   Unnamed: 0                           key  fare_amount  \\\n",
       "0    24238194 2015-05-07 19:52:06.000000300          7.5   \n",
       "1    27835199 2009-07-17 20:04:56.000000200          7.7   \n",
       "2    44984355 2009-08-24 21:45:00.000000610         12.9   \n",
       "3    25894730 2009-06-26 08:22:21.000000100          5.3   \n",
       "4    17610152 2014-08-28 17:47:00.000000188         16.0   \n",
       "\n",
       "            pickup_datetime  pickup_longitude  pickup_latitude  \\\n",
       "0 2015-05-07 19:52:06+00:00        -73.999817        40.738354   \n",
       "1 2009-07-17 20:04:56+00:00        -73.994355        40.728225   \n",
       "2 2009-08-24 21:45:00+00:00        -74.005043        40.740770   \n",
       "3 2009-06-26 08:22:21+00:00        -73.976124        40.790844   \n",
       "4 2014-08-28 17:47:00+00:00        -73.925023        40.744085   \n",
       "\n",
       "   dropoff_longitude  dropoff_latitude  passenger_count  distance_km  \n",
       "0         -73.999512         40.723217                1     1.683325  \n",
       "1         -73.994710         40.750325                1     2.457593  \n",
       "2         -73.962565         40.772647                1     5.036384  \n",
       "3         -73.965316         40.803349                3     1.661686  \n",
       "4         -73.973082         40.761247                5     4.475456  "
      ]
     },
     "execution_count": 24,
     "metadata": {},
     "output_type": "execute_result"
    }
   ],
   "source": [
    "df.head()"
   ]
  },
  {
   "cell_type": "code",
   "execution_count": 25,
   "metadata": {
    "colab": {
     "base_uri": "https://localhost:8080/"
    },
    "id": "yfjQaXgT_J9W",
    "outputId": "c54fe05a-7724-422b-ebf4-cebd7e6e3f89"
   },
   "outputs": [
    {
     "data": {
      "text/plain": [
       "(195860, 10)"
      ]
     },
     "execution_count": 25,
     "metadata": {},
     "output_type": "execute_result"
    }
   ],
   "source": [
    "df.shape"
   ]
  },
  {
   "cell_type": "code",
   "execution_count": 26,
   "metadata": {
    "id": "_rghPKAC_J9X"
   },
   "outputs": [],
   "source": [
    "#distance, duration, traffic conditions, time of day, and demand"
   ]
  },
  {
   "cell_type": "code",
   "execution_count": 27,
   "metadata": {
    "colab": {
     "base_uri": "https://localhost:8080/",
     "height": 1000
    },
    "id": "U_LDGNl4_J9X",
    "outputId": "2ac36d09-7980-4bb5-ab82-1f76ee787960"
   },
   "outputs": [
    {
     "name": "stdout",
     "output_type": "stream",
     "text": [
      "Peak Traffic Hours (Based on Uber Pickups):\n",
      " Hour\n",
      "0     0.039207\n",
      "1     0.029506\n",
      "2     0.022097\n",
      "3     0.016282\n",
      "4     0.011809\n",
      "5     0.009818\n",
      "6     0.020704\n",
      "7     0.036148\n",
      "8     0.045456\n",
      "9     0.046717\n",
      "10    0.044833\n",
      "11    0.047095\n",
      "12    0.049709\n",
      "13    0.050077\n",
      "14    0.048897\n",
      "15    0.048009\n",
      "16    0.041443\n",
      "17    0.048627\n",
      "18    0.060416\n",
      "19    0.063055\n",
      "20    0.058736\n",
      "21    0.057286\n",
      "22    0.055116\n",
      "23    0.048958\n",
      "dtype: float64\n"
     ]
    },
    {
     "data": {
      "image/png": "[encoded data removed]",
      "text/plain": [
       "<Figure size 1000x600 with 1 Axes>"
      ]
     },
     "metadata": {},
     "output_type": "display_data"
    }
   ],
   "source": [
    "df['Hour'] = df['pickup_datetime'].dt.hour\n",
    "hourly_pickups = df.groupby('Hour').size()\n",
    "normalized_traffic_weightage = hourly_pickups / hourly_pickups.sum()\n",
    "df['Traffic_Weitage'] = df['Hour'].map(normalized_traffic_weightage)\n",
    "print(\"Peak Traffic Hours (Based on Uber Pickups):\\n\", normalized_traffic_weightage)\n",
    "\n",
    "plt.figure(figsize=(10, 6))\n",
    "normalized_traffic_weightage.plot(kind='bar', color='skyblue')\n",
    "plt.title('Relative Traffic Weightage by Hour (Based on Uber Pickups)')\n",
    "plt.xlabel('Hour of Day')\n",
    "plt.ylabel('Relative Traffic Weightage')\n",
    "plt.xticks(rotation=0)\n",
    "plt.grid(axis='y', linestyle='--', alpha=0.7)\n",
    "plt.show()"
   ]
  },
  {
   "cell_type": "code",
   "execution_count": 28,
   "metadata": {
    "colab": {
     "base_uri": "https://localhost:8080/",
     "height": 310
    },
    "id": "wWnJAhLD_J9X",
    "outputId": "4b2b537d-5f3b-462b-d72e-cbbc0e5999a2"
   },
   "outputs": [
    {
     "data": {
      "text/html": [
       "<div>\n",
       "<style scoped>\n",
       "    .dataframe tbody tr th:only-of-type {\n",
       "        vertical-align: middle;\n",
       "    }\n",
       "\n",
       "    .dataframe tbody tr th {\n",
       "        vertical-align: top;\n",
       "    }\n",
       "\n",
       "    .dataframe thead th {\n",
       "        text-align: right;\n",
       "    }\n",
       "</style>\n",
       "<table border=\"1\" class=\"dataframe\">\n",
       "  <thead>\n",
       "    <tr style=\"text-align: right;\">\n",
       "      <th></th>\n",
       "      <th>Unnamed: 0</th>\n",
       "      <th>key</th>\n",
       "      <th>fare_amount</th>\n",
       "      <th>pickup_datetime</th>\n",
       "      <th>pickup_longitude</th>\n",
       "      <th>pickup_latitude</th>\n",
       "      <th>dropoff_longitude</th>\n",
       "      <th>dropoff_latitude</th>\n",
       "      <th>passenger_count</th>\n",
       "      <th>distance_km</th>\n",
       "      <th>Hour</th>\n",
       "      <th>Traffic_Weitage</th>\n",
       "    </tr>\n",
       "  </thead>\n",
       "  <tbody>\n",
       "    <tr>\n",
       "      <th>0</th>\n",
       "      <td>24238194</td>\n",
       "      <td>2015-05-07 19:52:06.000000300</td>\n",
       "      <td>7.5</td>\n",
       "      <td>2015-05-07 19:52:06+00:00</td>\n",
       "      <td>-73.999817</td>\n",
       "      <td>40.738354</td>\n",
       "      <td>-73.999512</td>\n",
       "      <td>40.723217</td>\n",
       "      <td>1</td>\n",
       "      <td>1.683325</td>\n",
       "      <td>19</td>\n",
       "      <td>0.063055</td>\n",
       "    </tr>\n",
       "    <tr>\n",
       "      <th>1</th>\n",
       "      <td>27835199</td>\n",
       "      <td>2009-07-17 20:04:56.000000200</td>\n",
       "      <td>7.7</td>\n",
       "      <td>2009-07-17 20:04:56+00:00</td>\n",
       "      <td>-73.994355</td>\n",
       "      <td>40.728225</td>\n",
       "      <td>-73.994710</td>\n",
       "      <td>40.750325</td>\n",
       "      <td>1</td>\n",
       "      <td>2.457593</td>\n",
       "      <td>20</td>\n",
       "      <td>0.058736</td>\n",
       "    </tr>\n",
       "    <tr>\n",
       "      <th>2</th>\n",
       "      <td>44984355</td>\n",
       "      <td>2009-08-24 21:45:00.000000610</td>\n",
       "      <td>12.9</td>\n",
       "      <td>2009-08-24 21:45:00+00:00</td>\n",
       "      <td>-74.005043</td>\n",
       "      <td>40.740770</td>\n",
       "      <td>-73.962565</td>\n",
       "      <td>40.772647</td>\n",
       "      <td>1</td>\n",
       "      <td>5.036384</td>\n",
       "      <td>21</td>\n",
       "      <td>0.057286</td>\n",
       "    </tr>\n",
       "    <tr>\n",
       "      <th>3</th>\n",
       "      <td>25894730</td>\n",
       "      <td>2009-06-26 08:22:21.000000100</td>\n",
       "      <td>5.3</td>\n",
       "      <td>2009-06-26 08:22:21+00:00</td>\n",
       "      <td>-73.976124</td>\n",
       "      <td>40.790844</td>\n",
       "      <td>-73.965316</td>\n",
       "      <td>40.803349</td>\n",
       "      <td>3</td>\n",
       "      <td>1.661686</td>\n",
       "      <td>8</td>\n",
       "      <td>0.045456</td>\n",
       "    </tr>\n",
       "    <tr>\n",
       "      <th>4</th>\n",
       "      <td>17610152</td>\n",
       "      <td>2014-08-28 17:47:00.000000188</td>\n",
       "      <td>16.0</td>\n",
       "      <td>2014-08-28 17:47:00+00:00</td>\n",
       "      <td>-73.925023</td>\n",
       "      <td>40.744085</td>\n",
       "      <td>-73.973082</td>\n",
       "      <td>40.761247</td>\n",
       "      <td>5</td>\n",
       "      <td>4.475456</td>\n",
       "      <td>17</td>\n",
       "      <td>0.048627</td>\n",
       "    </tr>\n",
       "  </tbody>\n",
       "</table>\n",
       "</div>"
      ],
      "text/plain": [
       "   Unnamed: 0                           key  fare_amount  \\\n",
       "0    24238194 2015-05-07 19:52:06.000000300          7.5   \n",
       "1    27835199 2009-07-17 20:04:56.000000200          7.7   \n",
       "2    44984355 2009-08-24 21:45:00.000000610         12.9   \n",
       "3    25894730 2009-06-26 08:22:21.000000100          5.3   \n",
       "4    17610152 2014-08-28 17:47:00.000000188         16.0   \n",
       "\n",
       "            pickup_datetime  pickup_longitude  pickup_latitude  \\\n",
       "0 2015-05-07 19:52:06+00:00        -73.999817        40.738354   \n",
       "1 2009-07-17 20:04:56+00:00        -73.994355        40.728225   \n",
       "2 2009-08-24 21:45:00+00:00        -74.005043        40.740770   \n",
       "3 2009-06-26 08:22:21+00:00        -73.976124        40.790844   \n",
       "4 2014-08-28 17:47:00+00:00        -73.925023        40.744085   \n",
       "\n",
       "   dropoff_longitude  dropoff_latitude  passenger_count  distance_km  Hour  \\\n",
       "0         -73.999512         40.723217                1     1.683325    19   \n",
       "1         -73.994710         40.750325                1     2.457593    20   \n",
       "2         -73.962565         40.772647                1     5.036384    21   \n",
       "3         -73.965316         40.803349                3     1.661686     8   \n",
       "4         -73.973082         40.761247                5     4.475456    17   \n",
       "\n",
       "   Traffic_Weitage  \n",
       "0         0.063055  \n",
       "1         0.058736  \n",
       "2         0.057286  \n",
       "3         0.045456  \n",
       "4         0.048627  "
      ]
     },
     "execution_count": 28,
     "metadata": {},
     "output_type": "execute_result"
    }
   ],
   "source": [
    "df.head()"
   ]
  },
  {
   "cell_type": "code",
   "execution_count": 29,
   "metadata": {
    "colab": {
     "base_uri": "https://localhost:8080/"
    },
    "id": "D7Eb8IC6_J9X",
    "outputId": "fb74792a-266c-4727-e359-408dd8f3b99d"
   },
   "outputs": [
    {
     "name": "stdout",
     "output_type": "stream",
     "text": [
      "<class 'pandas.core.frame.DataFrame'>\n",
      "Index: 195860 entries, 0 to 199999\n",
      "Data columns (total 12 columns):\n",
      " #   Column             Non-Null Count   Dtype              \n",
      "---  ------             --------------   -----              \n",
      " 0   Unnamed: 0         195860 non-null  int64              \n",
      " 1   key                195860 non-null  datetime64[ns]     \n",
      " 2   fare_amount        195860 non-null  float64            \n",
      " 3   pickup_datetime    195860 non-null  datetime64[ns, UTC]\n",
      " 4   pickup_longitude   195860 non-null  float64            \n",
      " 5   pickup_latitude    195860 non-null  float64            \n",
      " 6   dropoff_longitude  195860 non-null  float64            \n",
      " 7   dropoff_latitude   195860 non-null  float64            \n",
      " 8   passenger_count    195860 non-null  int64              \n",
      " 9   distance_km        195860 non-null  float64            \n",
      " 10  Hour               195860 non-null  int32              \n",
      " 11  Traffic_Weitage    195860 non-null  float64            \n",
      "dtypes: datetime64[ns, UTC](1), datetime64[ns](1), float64(7), int32(1), int64(2)\n",
      "memory usage: 18.7 MB\n"
     ]
    }
   ],
   "source": [
    "df.info()"
   ]
  },
  {
   "cell_type": "code",
   "execution_count": 30,
   "metadata": {
    "colab": {
     "base_uri": "https://localhost:8080/",
     "height": 329
    },
    "id": "p0a-1alP_J9Y",
    "outputId": "d6c4c260-3456-46b0-8115-b5566d8eef72"
   },
   "outputs": [
    {
     "data": {
      "text/plain": [
       "<Axes: xlabel='distance_km', ylabel='fare_amount'>"
      ]
     },
     "execution_count": 30,
     "metadata": {},
     "output_type": "execute_result"
    },
    {
     "data": {
      "image/png": "[encoded data removed]",
      "text/plain": [
       "<Figure size 800x300 with 1 Axes>"
      ]
     },
     "metadata": {},
     "output_type": "display_data"
    }
   ],
   "source": [
    "plt.figure(figsize = (8,3))\n",
    "sns.scatterplot(data = df, x = 'distance_km', y = 'fare_amount')"
   ]
  },
  {
   "cell_type": "code",
   "execution_count": 31,
   "metadata": {
    "colab": {
     "base_uri": "https://localhost:8080/"
    },
    "id": "Uhy7_oy__J9Y",
    "outputId": "eb5dff76-43bb-48bb-b39f-52172fd9d2cf"
   },
   "outputs": [
    {
     "data": {
      "text/plain": [
       "(195859, 12)"
      ]
     },
     "execution_count": 31,
     "metadata": {},
     "output_type": "execute_result"
    }
   ],
   "source": [
    "# Deleting passenger count which is greater than 6\n",
    "condition = df['passenger_count'] > 6\n",
    "df = df[~condition]\n",
    "df.shape"
   ]
  },
  {
   "cell_type": "code",
   "execution_count": 32,
   "metadata": {
    "colab": {
     "base_uri": "https://localhost:8080/"
    },
    "id": "VBlO_jNT_J9Y",
    "outputId": "bf2ff486-b3aa-4dca-ace0-75c9fd1de1f3"
   },
   "outputs": [
    {
     "data": {
      "text/plain": [
       "(195859, 12)"
      ]
     },
     "execution_count": 32,
     "metadata": {},
     "output_type": "execute_result"
    }
   ],
   "source": [
    "# Deleting distance_km which is greater than 2000\n",
    "condition = df['distance_km'] > 2000\n",
    "df = df[~condition]\n",
    "df.shape"
   ]
  },
  {
   "cell_type": "code",
   "execution_count": 33,
   "metadata": {
    "colab": {
     "base_uri": "https://localhost:8080/"
    },
    "id": "BR7ok7TN_J9Y",
    "outputId": "b966231d-fc48-444a-d0fb-4cacd5f5c9ed"
   },
   "outputs": [
    {
     "data": {
      "text/plain": [
       "(73426, 12)"
      ]
     },
     "execution_count": 33,
     "metadata": {},
     "output_type": "execute_result"
    }
   ],
   "source": [
    "# Deleting fare_amount which is less than 10\n",
    "condition = df['fare_amount'] <= 10\n",
    "df = df[~condition]\n",
    "df.shape"
   ]
  },
  {
   "cell_type": "code",
   "execution_count": 34,
   "metadata": {
    "colab": {
     "base_uri": "https://localhost:8080/"
    },
    "id": "bkDMvG-h_J9Y",
    "outputId": "054d9000-438a-4820-a9e2-d0e028e6ff7a"
   },
   "outputs": [
    {
     "data": {
      "text/plain": [
       "(73216, 12)"
      ]
     },
     "execution_count": 34,
     "metadata": {},
     "output_type": "execute_result"
    }
   ],
   "source": [
    "# Deleting 0 passenger count\n",
    "condition = df['passenger_count'] == 0\n",
    "df = df[~condition]\n",
    "df.shape"
   ]
  },
  {
   "cell_type": "code",
   "execution_count": 35,
   "metadata": {
    "colab": {
     "base_uri": "https://localhost:8080/"
    },
    "id": "FN9VRlx-_J9Y",
    "outputId": "5037bc3c-204a-4f20-88ae-ceb9c0fb2b54"
   },
   "outputs": [
    {
     "data": {
      "text/plain": [
       "(72688, 12)"
      ]
     },
     "execution_count": 35,
     "metadata": {},
     "output_type": "execute_result"
    }
   ],
   "source": [
    "# Deleting 0 distance_km\n",
    "condition = df['distance_km'] == 0\n",
    "df = df[~condition]\n",
    "df.shape"
   ]
  },
  {
   "cell_type": "code",
   "execution_count": 36,
   "metadata": {
    "colab": {
     "base_uri": "https://localhost:8080/",
     "height": 329
    },
    "id": "ux0QO5JR_J9Z",
    "outputId": "62035bb9-6b42-45d0-e29a-9a4ac3303bf1"
   },
   "outputs": [
    {
     "data": {
      "text/plain": [
       "<Axes: xlabel='distance_km', ylabel='fare_amount'>"
      ]
     },
     "execution_count": 36,
     "metadata": {},
     "output_type": "execute_result"
    },
    {
     "data": {
      "image/png": "[encoded data removed]",
      "text/plain": [
       "<Figure size 800x300 with 1 Axes>"
      ]
     },
     "metadata": {},
     "output_type": "display_data"
    }
   ],
   "source": [
    "plt.figure(figsize = (8,3))\n",
    "sns.scatterplot(data = df, x = 'distance_km', y = 'fare_amount')"
   ]
  },
  {
   "cell_type": "code",
   "execution_count": 37,
   "metadata": {
    "colab": {
     "base_uri": "https://localhost:8080/",
     "height": 468
    },
    "id": "pzjycl6y_J9Z",
    "outputId": "020f4576-c01a-481b-c4a9-a0d9f4f6b697"
   },
   "outputs": [
    {
     "data": {
      "text/plain": [
       "<Axes: xlabel='distance_km', ylabel='fare_amount'>"
      ]
     },
     "execution_count": 37,
     "metadata": {},
     "output_type": "execute_result"
    },
    {
     "data": {
      "image/png": "[encoded data removed]",
      "text/plain": [
       "<Figure size 640x480 with 1 Axes>"
      ]
     },
     "metadata": {},
     "output_type": "display_data"
    }
   ],
   "source": [
    "sns.regplot(x='distance_km', y='fare_amount', data=df)"
   ]
  },
  {
   "cell_type": "code",
   "execution_count": 38,
   "metadata": {
    "colab": {
     "base_uri": "https://localhost:8080/",
     "height": 467
    },
    "id": "25zVe4AQ_J9Z",
    "outputId": "645c7a16-372d-403a-cb35-2c2a373a6ebd"
   },
   "outputs": [
    {
     "data": {
      "text/plain": [
       "<Axes: xlabel='passenger_count', ylabel='fare_amount'>"
      ]
     },
     "execution_count": 38,
     "metadata": {},
     "output_type": "execute_result"
    },
    {
     "data": {
      "image/png": "[encoded data removed]",
      "text/plain": [
       "<Figure size 640x480 with 1 Axes>"
      ]
     },
     "metadata": {},
     "output_type": "display_data"
    }
   ],
   "source": [
    "sns.regplot(x='passenger_count', y='fare_amount', data=df)"
   ]
  },
  {
   "cell_type": "code",
   "execution_count": 39,
   "metadata": {
    "colab": {
     "base_uri": "https://localhost:8080/",
     "height": 404
    },
    "id": "C4uRKKzp_J9Z",
    "outputId": "d7edf067-e0f7-426e-a1b3-c3acc29baf68"
   },
   "outputs": [
    {
     "data": {
      "text/html": [
       "<div>\n",
       "<style scoped>\n",
       "    .dataframe tbody tr th:only-of-type {\n",
       "        vertical-align: middle;\n",
       "    }\n",
       "\n",
       "    .dataframe tbody tr th {\n",
       "        vertical-align: top;\n",
       "    }\n",
       "\n",
       "    .dataframe thead th {\n",
       "        text-align: right;\n",
       "    }\n",
       "</style>\n",
       "<table border=\"1\" class=\"dataframe\">\n",
       "  <thead>\n",
       "    <tr style=\"text-align: right;\">\n",
       "      <th></th>\n",
       "      <th>Unnamed: 0</th>\n",
       "      <th>key</th>\n",
       "      <th>fare_amount</th>\n",
       "      <th>pickup_longitude</th>\n",
       "      <th>pickup_latitude</th>\n",
       "      <th>dropoff_longitude</th>\n",
       "      <th>dropoff_latitude</th>\n",
       "      <th>passenger_count</th>\n",
       "      <th>distance_km</th>\n",
       "      <th>Hour</th>\n",
       "      <th>Traffic_Weitage</th>\n",
       "    </tr>\n",
       "  </thead>\n",
       "  <tbody>\n",
       "    <tr>\n",
       "      <th>count</th>\n",
       "      <td>7.268800e+04</td>\n",
       "      <td>72688</td>\n",
       "      <td>72688.000000</td>\n",
       "      <td>72688.000000</td>\n",
       "      <td>72688.000000</td>\n",
       "      <td>72688.000000</td>\n",
       "      <td>72688.000000</td>\n",
       "      <td>72688.000000</td>\n",
       "      <td>72688.000000</td>\n",
       "      <td>72688.000000</td>\n",
       "      <td>72688.000000</td>\n",
       "    </tr>\n",
       "    <tr>\n",
       "      <th>mean</th>\n",
       "      <td>2.769841e+07</td>\n",
       "      <td>2012-06-29 13:26:22.654358784</td>\n",
       "      <td>19.201118</td>\n",
       "      <td>-73.967812</td>\n",
       "      <td>40.746885</td>\n",
       "      <td>-73.966096</td>\n",
       "      <td>40.746809</td>\n",
       "      <td>1.711094</td>\n",
       "      <td>6.168671</td>\n",
       "      <td>13.315320</td>\n",
       "      <td>0.046653</td>\n",
       "    </tr>\n",
       "    <tr>\n",
       "      <th>min</th>\n",
       "      <td>1.000000e+00</td>\n",
       "      <td>2009-01-01 01:59:17.000000100</td>\n",
       "      <td>10.100000</td>\n",
       "      <td>-75.426904</td>\n",
       "      <td>39.610299</td>\n",
       "      <td>-75.458979</td>\n",
       "      <td>37.533090</td>\n",
       "      <td>1.000000</td>\n",
       "      <td>0.000084</td>\n",
       "      <td>0.000000</td>\n",
       "      <td>0.009818</td>\n",
       "    </tr>\n",
       "    <tr>\n",
       "      <th>25%</th>\n",
       "      <td>1.383361e+07</td>\n",
       "      <td>2010-12-09 08:46:12.000000512</td>\n",
       "      <td>12.000000</td>\n",
       "      <td>-73.993040</td>\n",
       "      <td>40.729664</td>\n",
       "      <td>-73.991539</td>\n",
       "      <td>40.723875</td>\n",
       "      <td>1.000000</td>\n",
       "      <td>3.287484</td>\n",
       "      <td>9.000000</td>\n",
       "      <td>0.044833</td>\n",
       "    </tr>\n",
       "    <tr>\n",
       "      <th>50%</th>\n",
       "      <td>2.772307e+07</td>\n",
       "      <td>2012-09-11 22:19:00.000000256</td>\n",
       "      <td>14.500000</td>\n",
       "      <td>-73.981861</td>\n",
       "      <td>40.751772</td>\n",
       "      <td>-73.978227</td>\n",
       "      <td>40.751926</td>\n",
       "      <td>1.000000</td>\n",
       "      <td>4.744799</td>\n",
       "      <td>14.000000</td>\n",
       "      <td>0.048627</td>\n",
       "    </tr>\n",
       "    <tr>\n",
       "      <th>75%</th>\n",
       "      <td>4.153312e+07</td>\n",
       "      <td>2014-01-30 08:35:55.750000384</td>\n",
       "      <td>21.000000</td>\n",
       "      <td>-73.962867</td>\n",
       "      <td>40.768650</td>\n",
       "      <td>-73.955159</td>\n",
       "      <td>40.769141</td>\n",
       "      <td>2.000000</td>\n",
       "      <td>7.268739</td>\n",
       "      <td>19.000000</td>\n",
       "      <td>0.055116</td>\n",
       "    </tr>\n",
       "    <tr>\n",
       "      <th>max</th>\n",
       "      <td>5.542167e+07</td>\n",
       "      <td>2015-06-30 23:40:39.000000100</td>\n",
       "      <td>499.000000</td>\n",
       "      <td>-71.896038</td>\n",
       "      <td>42.478467</td>\n",
       "      <td>-71.718700</td>\n",
       "      <td>42.464187</td>\n",
       "      <td>6.000000</td>\n",
       "      <td>367.442653</td>\n",
       "      <td>23.000000</td>\n",
       "      <td>0.063055</td>\n",
       "    </tr>\n",
       "    <tr>\n",
       "      <th>std</th>\n",
       "      <td>1.600440e+07</td>\n",
       "      <td>NaN</td>\n",
       "      <td>12.160614</td>\n",
       "      <td>0.053375</td>\n",
       "      <td>0.035029</td>\n",
       "      <td>0.053175</td>\n",
       "      <td>0.045432</td>\n",
       "      <td>1.321225</td>\n",
       "      <td>5.321041</td>\n",
       "      <td>6.706105</td>\n",
       "      <td>0.012063</td>\n",
       "    </tr>\n",
       "  </tbody>\n",
       "</table>\n",
       "</div>"
      ],
      "text/plain": [
       "         Unnamed: 0                            key   fare_amount  \\\n",
       "count  7.268800e+04                          72688  72688.000000   \n",
       "mean   2.769841e+07  2012-06-29 13:26:22.654358784     19.201118   \n",
       "min    1.000000e+00  2009-01-01 01:59:17.000000100     10.100000   \n",
       "25%    1.383361e+07  2010-12-09 08:46:12.000000512     12.000000   \n",
       "50%    2.772307e+07  2012-09-11 22:19:00.000000256     14.500000   \n",
       "75%    4.153312e+07  2014-01-30 08:35:55.750000384     21.000000   \n",
       "max    5.542167e+07  2015-06-30 23:40:39.000000100    499.000000   \n",
       "std    1.600440e+07                            NaN     12.160614   \n",
       "\n",
       "       pickup_longitude  pickup_latitude  dropoff_longitude  dropoff_latitude  \\\n",
       "count      72688.000000     72688.000000       72688.000000      72688.000000   \n",
       "mean         -73.967812        40.746885         -73.966096         40.746809   \n",
       "min          -75.426904        39.610299         -75.458979         37.533090   \n",
       "25%          -73.993040        40.729664         -73.991539         40.723875   \n",
       "50%          -73.981861        40.751772         -73.978227         40.751926   \n",
       "75%          -73.962867        40.768650         -73.955159         40.769141   \n",
       "max          -71.896038        42.478467         -71.718700         42.464187   \n",
       "std            0.053375         0.035029           0.053175          0.045432   \n",
       "\n",
       "       passenger_count   distance_km          Hour  Traffic_Weitage  \n",
       "count     72688.000000  72688.000000  72688.000000     72688.000000  \n",
       "mean          1.711094      6.168671     13.315320         0.046653  \n",
       "min           1.000000      0.000084      0.000000         0.009818  \n",
       "25%           1.000000      3.287484      9.000000         0.044833  \n",
       "50%           1.000000      4.744799     14.000000         0.048627  \n",
       "75%           2.000000      7.268739     19.000000         0.055116  \n",
       "max           6.000000    367.442653     23.000000         0.063055  \n",
       "std           1.321225      5.321041      6.706105         0.012063  "
      ]
     },
     "execution_count": 39,
     "metadata": {},
     "output_type": "execute_result"
    }
   ],
   "source": [
    "df.describe()"
   ]
  },
  {
   "cell_type": "code",
   "execution_count": 40,
   "metadata": {
    "colab": {
     "base_uri": "https://localhost:8080/",
     "height": 310
    },
    "id": "wYgQcRdd_J9k",
    "outputId": "9d6fea6a-6587-45ac-f60b-725223d4e5c7"
   },
   "outputs": [
    {
     "data": {
      "text/html": [
       "<div>\n",
       "<style scoped>\n",
       "    .dataframe tbody tr th:only-of-type {\n",
       "        vertical-align: middle;\n",
       "    }\n",
       "\n",
       "    .dataframe tbody tr th {\n",
       "        vertical-align: top;\n",
       "    }\n",
       "\n",
       "    .dataframe thead th {\n",
       "        text-align: right;\n",
       "    }\n",
       "</style>\n",
       "<table border=\"1\" class=\"dataframe\">\n",
       "  <thead>\n",
       "    <tr style=\"text-align: right;\">\n",
       "      <th></th>\n",
       "      <th>Unnamed: 0</th>\n",
       "      <th>key</th>\n",
       "      <th>fare_amount</th>\n",
       "      <th>pickup_datetime</th>\n",
       "      <th>pickup_longitude</th>\n",
       "      <th>pickup_latitude</th>\n",
       "      <th>dropoff_longitude</th>\n",
       "      <th>dropoff_latitude</th>\n",
       "      <th>passenger_count</th>\n",
       "      <th>distance_km</th>\n",
       "      <th>Hour</th>\n",
       "      <th>Traffic_Weitage</th>\n",
       "    </tr>\n",
       "  </thead>\n",
       "  <tbody>\n",
       "    <tr>\n",
       "      <th>2</th>\n",
       "      <td>44984355</td>\n",
       "      <td>2009-08-24 21:45:00.000000610</td>\n",
       "      <td>12.9</td>\n",
       "      <td>2009-08-24 21:45:00+00:00</td>\n",
       "      <td>-74.005043</td>\n",
       "      <td>40.740770</td>\n",
       "      <td>-73.962565</td>\n",
       "      <td>40.772647</td>\n",
       "      <td>1</td>\n",
       "      <td>5.036384</td>\n",
       "      <td>21</td>\n",
       "      <td>0.057286</td>\n",
       "    </tr>\n",
       "    <tr>\n",
       "      <th>4</th>\n",
       "      <td>17610152</td>\n",
       "      <td>2014-08-28 17:47:00.000000188</td>\n",
       "      <td>16.0</td>\n",
       "      <td>2014-08-28 17:47:00+00:00</td>\n",
       "      <td>-73.925023</td>\n",
       "      <td>40.744085</td>\n",
       "      <td>-73.973082</td>\n",
       "      <td>40.761247</td>\n",
       "      <td>5</td>\n",
       "      <td>4.475456</td>\n",
       "      <td>17</td>\n",
       "      <td>0.048627</td>\n",
       "    </tr>\n",
       "    <tr>\n",
       "      <th>6</th>\n",
       "      <td>48725865</td>\n",
       "      <td>2014-10-12 07:04:00.000000200</td>\n",
       "      <td>24.5</td>\n",
       "      <td>2014-10-12 07:04:00+00:00</td>\n",
       "      <td>-73.961447</td>\n",
       "      <td>40.693965</td>\n",
       "      <td>-73.871195</td>\n",
       "      <td>40.774297</td>\n",
       "      <td>5</td>\n",
       "      <td>11.731031</td>\n",
       "      <td>7</td>\n",
       "      <td>0.036148</td>\n",
       "    </tr>\n",
       "    <tr>\n",
       "      <th>9</th>\n",
       "      <td>50611056</td>\n",
       "      <td>2012-03-29 19:06:00.000000273</td>\n",
       "      <td>12.5</td>\n",
       "      <td>2012-03-29 19:06:00+00:00</td>\n",
       "      <td>-74.001065</td>\n",
       "      <td>40.741787</td>\n",
       "      <td>-73.963040</td>\n",
       "      <td>40.775012</td>\n",
       "      <td>1</td>\n",
       "      <td>4.889424</td>\n",
       "      <td>19</td>\n",
       "      <td>0.063055</td>\n",
       "    </tr>\n",
       "    <tr>\n",
       "      <th>13</th>\n",
       "      <td>13012786</td>\n",
       "      <td>2011-06-25 11:19:00.000000102</td>\n",
       "      <td>10.9</td>\n",
       "      <td>2011-06-25 11:19:00+00:00</td>\n",
       "      <td>-73.953352</td>\n",
       "      <td>40.767382</td>\n",
       "      <td>-73.972510</td>\n",
       "      <td>40.796137</td>\n",
       "      <td>1</td>\n",
       "      <td>3.581256</td>\n",
       "      <td>11</td>\n",
       "      <td>0.047095</td>\n",
       "    </tr>\n",
       "  </tbody>\n",
       "</table>\n",
       "</div>"
      ],
      "text/plain": [
       "    Unnamed: 0                           key  fare_amount  \\\n",
       "2     44984355 2009-08-24 21:45:00.000000610         12.9   \n",
       "4     17610152 2014-08-28 17:47:00.000000188         16.0   \n",
       "6     48725865 2014-10-12 07:04:00.000000200         24.5   \n",
       "9     50611056 2012-03-29 19:06:00.000000273         12.5   \n",
       "13    13012786 2011-06-25 11:19:00.000000102         10.9   \n",
       "\n",
       "             pickup_datetime  pickup_longitude  pickup_latitude  \\\n",
       "2  2009-08-24 21:45:00+00:00        -74.005043        40.740770   \n",
       "4  2014-08-28 17:47:00+00:00        -73.925023        40.744085   \n",
       "6  2014-10-12 07:04:00+00:00        -73.961447        40.693965   \n",
       "9  2012-03-29 19:06:00+00:00        -74.001065        40.741787   \n",
       "13 2011-06-25 11:19:00+00:00        -73.953352        40.767382   \n",
       "\n",
       "    dropoff_longitude  dropoff_latitude  passenger_count  distance_km  Hour  \\\n",
       "2          -73.962565         40.772647                1     5.036384    21   \n",
       "4          -73.973082         40.761247                5     4.475456    17   \n",
       "6          -73.871195         40.774297                5    11.731031     7   \n",
       "9          -73.963040         40.775012                1     4.889424    19   \n",
       "13         -73.972510         40.796137                1     3.581256    11   \n",
       "\n",
       "    Traffic_Weitage  \n",
       "2          0.057286  \n",
       "4          0.048627  \n",
       "6          0.036148  \n",
       "9          0.063055  \n",
       "13         0.047095  "
      ]
     },
     "execution_count": 40,
     "metadata": {},
     "output_type": "execute_result"
    }
   ],
   "source": [
    "df.head()"
   ]
  },
  {
   "cell_type": "code",
   "execution_count": 41,
   "metadata": {
    "colab": {
     "base_uri": "https://localhost:8080/",
     "height": 206
    },
    "id": "ztj0WhME_J9k",
    "outputId": "92cc985f-34fb-4f59-b17d-1d2f9284c3c1"
   },
   "outputs": [
    {
     "data": {
      "text/html": [
       "<div>\n",
       "<style scoped>\n",
       "    .dataframe tbody tr th:only-of-type {\n",
       "        vertical-align: middle;\n",
       "    }\n",
       "\n",
       "    .dataframe tbody tr th {\n",
       "        vertical-align: top;\n",
       "    }\n",
       "\n",
       "    .dataframe thead th {\n",
       "        text-align: right;\n",
       "    }\n",
       "</style>\n",
       "<table border=\"1\" class=\"dataframe\">\n",
       "  <thead>\n",
       "    <tr style=\"text-align: right;\">\n",
       "      <th></th>\n",
       "      <th>fare_amount</th>\n",
       "      <th>pickup_datetime</th>\n",
       "      <th>passenger_count</th>\n",
       "      <th>distance_km</th>\n",
       "      <th>Hour</th>\n",
       "      <th>Traffic_Weitage</th>\n",
       "    </tr>\n",
       "  </thead>\n",
       "  <tbody>\n",
       "    <tr>\n",
       "      <th>2</th>\n",
       "      <td>12.9</td>\n",
       "      <td>2009-08-24 21:45:00+00:00</td>\n",
       "      <td>1</td>\n",
       "      <td>5.036384</td>\n",
       "      <td>21</td>\n",
       "      <td>0.057286</td>\n",
       "    </tr>\n",
       "    <tr>\n",
       "      <th>4</th>\n",
       "      <td>16.0</td>\n",
       "      <td>2014-08-28 17:47:00+00:00</td>\n",
       "      <td>5</td>\n",
       "      <td>4.475456</td>\n",
       "      <td>17</td>\n",
       "      <td>0.048627</td>\n",
       "    </tr>\n",
       "    <tr>\n",
       "      <th>6</th>\n",
       "      <td>24.5</td>\n",
       "      <td>2014-10-12 07:04:00+00:00</td>\n",
       "      <td>5</td>\n",
       "      <td>11.731031</td>\n",
       "      <td>7</td>\n",
       "      <td>0.036148</td>\n",
       "    </tr>\n",
       "    <tr>\n",
       "      <th>9</th>\n",
       "      <td>12.5</td>\n",
       "      <td>2012-03-29 19:06:00+00:00</td>\n",
       "      <td>1</td>\n",
       "      <td>4.889424</td>\n",
       "      <td>19</td>\n",
       "      <td>0.063055</td>\n",
       "    </tr>\n",
       "    <tr>\n",
       "      <th>13</th>\n",
       "      <td>10.9</td>\n",
       "      <td>2011-06-25 11:19:00+00:00</td>\n",
       "      <td>1</td>\n",
       "      <td>3.581256</td>\n",
       "      <td>11</td>\n",
       "      <td>0.047095</td>\n",
       "    </tr>\n",
       "  </tbody>\n",
       "</table>\n",
       "</div>"
      ],
      "text/plain": [
       "    fare_amount           pickup_datetime  passenger_count  distance_km  Hour  \\\n",
       "2          12.9 2009-08-24 21:45:00+00:00                1     5.036384    21   \n",
       "4          16.0 2014-08-28 17:47:00+00:00                5     4.475456    17   \n",
       "6          24.5 2014-10-12 07:04:00+00:00                5    11.731031     7   \n",
       "9          12.5 2012-03-29 19:06:00+00:00                1     4.889424    19   \n",
       "13         10.9 2011-06-25 11:19:00+00:00                1     3.581256    11   \n",
       "\n",
       "    Traffic_Weitage  \n",
       "2          0.057286  \n",
       "4          0.048627  \n",
       "6          0.036148  \n",
       "9          0.063055  \n",
       "13         0.047095  "
      ]
     },
     "execution_count": 41,
     "metadata": {},
     "output_type": "execute_result"
    }
   ],
   "source": [
    "df.drop(columns=['Unnamed: 0', 'key', 'pickup_longitude', 'pickup_latitude', 'dropoff_longitude', 'dropoff_latitude'], inplace=True)\n",
    "df.head()"
   ]
  },
  {
   "cell_type": "code",
   "execution_count": 42,
   "metadata": {
    "id": "tzgWiTnR_J9k"
   },
   "outputs": [],
   "source": [
    "#sns.pairplot(df)"
   ]
  },
  {
   "cell_type": "code",
   "execution_count": 43,
   "metadata": {
    "colab": {
     "base_uri": "https://localhost:8080/",
     "height": 329
    },
    "id": "pfGCvChl_J9l",
    "outputId": "829cf827-4ed5-4289-a4a4-6d794850be4c"
   },
   "outputs": [
    {
     "data": {
      "text/plain": [
       "<Axes: xlabel='distance_km', ylabel='fare_amount'>"
      ]
     },
     "execution_count": 43,
     "metadata": {},
     "output_type": "execute_result"
    },
    {
     "data": {
      "image/png": "[encoded data removed]",
      "text/plain": [
       "<Figure size 800x300 with 1 Axes>"
      ]
     },
     "metadata": {},
     "output_type": "display_data"
    }
   ],
   "source": [
    "plt.figure(figsize = (8,3))\n",
    "sns.scatterplot(data = df, x = 'distance_km', y = 'fare_amount')"
   ]
  },
  {
   "cell_type": "code",
   "execution_count": 44,
   "metadata": {
    "id": "L3QgFSWl_J9l"
   },
   "outputs": [],
   "source": [
    "# Deleting outliers of distance>50 and fare_amount < 100.  They are outliers\n",
    "condition = (df['distance_km'] > 50) & (df['fare_amount'] < 100)\n",
    "df = df[~condition]"
   ]
  },
  {
   "cell_type": "code",
   "execution_count": 45,
   "metadata": {
    "id": "iDbSo9Ws_J9l"
   },
   "outputs": [],
   "source": [
    "# Deleting outliers of fare_amount>300 as its distance from the above chart is close to 0\n",
    "condition = df['fare_amount'] > 300\n",
    "df = df[~condition]"
   ]
  },
  {
   "cell_type": "code",
   "execution_count": 46,
   "metadata": {
    "colab": {
     "base_uri": "https://localhost:8080/",
     "height": 329
    },
    "id": "g_uzRExc_J9l",
    "outputId": "b94fc6f9-0151-473b-ef7c-b63c0faffc1a"
   },
   "outputs": [
    {
     "data": {
      "text/plain": [
       "<Axes: xlabel='distance_km', ylabel='fare_amount'>"
      ]
     },
     "execution_count": 46,
     "metadata": {},
     "output_type": "execute_result"
    },
    {
     "data": {
      "image/png": "[encoded data removed]",
      "text/plain": [
       "<Figure size 800x300 with 1 Axes>"
      ]
     },
     "metadata": {},
     "output_type": "display_data"
    }
   ],
   "source": [
    "plt.figure(figsize = (8,3))\n",
    "sns.scatterplot(data = df, x = 'distance_km', y = 'fare_amount')"
   ]
  },
  {
   "cell_type": "code",
   "execution_count": 47,
   "metadata": {
    "id": "QW8EGIvE_J9l"
   },
   "outputs": [],
   "source": [
    "df['Fare_Km'] = df['fare_amount']/df['distance_km']"
   ]
  },
  {
   "cell_type": "code",
   "execution_count": 48,
   "metadata": {
    "colab": {
     "base_uri": "https://localhost:8080/",
     "height": 206
    },
    "id": "wJNW2ZfV_J9l",
    "outputId": "f29c0622-3eb6-44b9-c4cc-9eb62f752f99"
   },
   "outputs": [
    {
     "data": {
      "text/html": [
       "<div>\n",
       "<style scoped>\n",
       "    .dataframe tbody tr th:only-of-type {\n",
       "        vertical-align: middle;\n",
       "    }\n",
       "\n",
       "    .dataframe tbody tr th {\n",
       "        vertical-align: top;\n",
       "    }\n",
       "\n",
       "    .dataframe thead th {\n",
       "        text-align: right;\n",
       "    }\n",
       "</style>\n",
       "<table border=\"1\" class=\"dataframe\">\n",
       "  <thead>\n",
       "    <tr style=\"text-align: right;\">\n",
       "      <th></th>\n",
       "      <th>fare_amount</th>\n",
       "      <th>pickup_datetime</th>\n",
       "      <th>passenger_count</th>\n",
       "      <th>distance_km</th>\n",
       "      <th>Hour</th>\n",
       "      <th>Traffic_Weitage</th>\n",
       "      <th>Fare_Km</th>\n",
       "    </tr>\n",
       "  </thead>\n",
       "  <tbody>\n",
       "    <tr>\n",
       "      <th>2</th>\n",
       "      <td>12.9</td>\n",
       "      <td>2009-08-24 21:45:00+00:00</td>\n",
       "      <td>1</td>\n",
       "      <td>5.036384</td>\n",
       "      <td>21</td>\n",
       "      <td>0.057286</td>\n",
       "      <td>2.561361</td>\n",
       "    </tr>\n",
       "    <tr>\n",
       "      <th>4</th>\n",
       "      <td>16.0</td>\n",
       "      <td>2014-08-28 17:47:00+00:00</td>\n",
       "      <td>5</td>\n",
       "      <td>4.475456</td>\n",
       "      <td>17</td>\n",
       "      <td>0.048627</td>\n",
       "      <td>3.575055</td>\n",
       "    </tr>\n",
       "    <tr>\n",
       "      <th>6</th>\n",
       "      <td>24.5</td>\n",
       "      <td>2014-10-12 07:04:00+00:00</td>\n",
       "      <td>5</td>\n",
       "      <td>11.731031</td>\n",
       "      <td>7</td>\n",
       "      <td>0.036148</td>\n",
       "      <td>2.088478</td>\n",
       "    </tr>\n",
       "    <tr>\n",
       "      <th>9</th>\n",
       "      <td>12.5</td>\n",
       "      <td>2012-03-29 19:06:00+00:00</td>\n",
       "      <td>1</td>\n",
       "      <td>4.889424</td>\n",
       "      <td>19</td>\n",
       "      <td>0.063055</td>\n",
       "      <td>2.556539</td>\n",
       "    </tr>\n",
       "    <tr>\n",
       "      <th>13</th>\n",
       "      <td>10.9</td>\n",
       "      <td>2011-06-25 11:19:00+00:00</td>\n",
       "      <td>1</td>\n",
       "      <td>3.581256</td>\n",
       "      <td>11</td>\n",
       "      <td>0.047095</td>\n",
       "      <td>3.043625</td>\n",
       "    </tr>\n",
       "  </tbody>\n",
       "</table>\n",
       "</div>"
      ],
      "text/plain": [
       "    fare_amount           pickup_datetime  passenger_count  distance_km  Hour  \\\n",
       "2          12.9 2009-08-24 21:45:00+00:00                1     5.036384    21   \n",
       "4          16.0 2014-08-28 17:47:00+00:00                5     4.475456    17   \n",
       "6          24.5 2014-10-12 07:04:00+00:00                5    11.731031     7   \n",
       "9          12.5 2012-03-29 19:06:00+00:00                1     4.889424    19   \n",
       "13         10.9 2011-06-25 11:19:00+00:00                1     3.581256    11   \n",
       "\n",
       "    Traffic_Weitage   Fare_Km  \n",
       "2          0.057286  2.561361  \n",
       "4          0.048627  3.575055  \n",
       "6          0.036148  2.088478  \n",
       "9          0.063055  2.556539  \n",
       "13         0.047095  3.043625  "
      ]
     },
     "execution_count": 48,
     "metadata": {},
     "output_type": "execute_result"
    }
   ],
   "source": [
    "df.head()"
   ]
  },
  {
   "cell_type": "code",
   "execution_count": 49,
   "metadata": {
    "colab": {
     "base_uri": "https://localhost:8080/",
     "height": 206
    },
    "id": "Uxilv06L_J9m",
    "outputId": "ee55a2b7-5311-45eb-8664-fb4df46a6c6e"
   },
   "outputs": [
    {
     "data": {
      "text/html": [
       "<div>\n",
       "<style scoped>\n",
       "    .dataframe tbody tr th:only-of-type {\n",
       "        vertical-align: middle;\n",
       "    }\n",
       "\n",
       "    .dataframe tbody tr th {\n",
       "        vertical-align: top;\n",
       "    }\n",
       "\n",
       "    .dataframe thead th {\n",
       "        text-align: right;\n",
       "    }\n",
       "</style>\n",
       "<table border=\"1\" class=\"dataframe\">\n",
       "  <thead>\n",
       "    <tr style=\"text-align: right;\">\n",
       "      <th></th>\n",
       "      <th>fare_amount</th>\n",
       "      <th>pickup_datetime</th>\n",
       "      <th>passenger_count</th>\n",
       "      <th>distance_km</th>\n",
       "      <th>Hour</th>\n",
       "      <th>Traffic_Weitage</th>\n",
       "      <th>Fare_Km</th>\n",
       "    </tr>\n",
       "  </thead>\n",
       "  <tbody>\n",
       "    <tr>\n",
       "      <th>11301</th>\n",
       "      <td>113.0</td>\n",
       "      <td>2013-12-06 02:17:00+00:00</td>\n",
       "      <td>2</td>\n",
       "      <td>0.000169</td>\n",
       "      <td>2</td>\n",
       "      <td>0.022097</td>\n",
       "      <td>667984.103674</td>\n",
       "    </tr>\n",
       "    <tr>\n",
       "      <th>14116</th>\n",
       "      <td>52.0</td>\n",
       "      <td>2014-01-25 03:31:46+00:00</td>\n",
       "      <td>1</td>\n",
       "      <td>0.000084</td>\n",
       "      <td>3</td>\n",
       "      <td>0.016282</td>\n",
       "      <td>617216.290511</td>\n",
       "    </tr>\n",
       "    <tr>\n",
       "      <th>198655</th>\n",
       "      <td>52.0</td>\n",
       "      <td>2014-08-31 20:02:06+00:00</td>\n",
       "      <td>1</td>\n",
       "      <td>0.000084</td>\n",
       "      <td>20</td>\n",
       "      <td>0.058736</td>\n",
       "      <td>616348.773783</td>\n",
       "    </tr>\n",
       "    <tr>\n",
       "      <th>1531</th>\n",
       "      <td>50.0</td>\n",
       "      <td>2009-05-28 19:40:00+00:00</td>\n",
       "      <td>1</td>\n",
       "      <td>0.000084</td>\n",
       "      <td>19</td>\n",
       "      <td>0.063055</td>\n",
       "      <td>593853.871246</td>\n",
       "    </tr>\n",
       "    <tr>\n",
       "      <th>163148</th>\n",
       "      <td>45.0</td>\n",
       "      <td>2012-04-11 22:34:15+00:00</td>\n",
       "      <td>1</td>\n",
       "      <td>0.000084</td>\n",
       "      <td>22</td>\n",
       "      <td>0.055116</td>\n",
       "      <td>534246.314443</td>\n",
       "    </tr>\n",
       "  </tbody>\n",
       "</table>\n",
       "</div>"
      ],
      "text/plain": [
       "        fare_amount           pickup_datetime  passenger_count  distance_km  \\\n",
       "11301         113.0 2013-12-06 02:17:00+00:00                2     0.000169   \n",
       "14116          52.0 2014-01-25 03:31:46+00:00                1     0.000084   \n",
       "198655         52.0 2014-08-31 20:02:06+00:00                1     0.000084   \n",
       "1531           50.0 2009-05-28 19:40:00+00:00                1     0.000084   \n",
       "163148         45.0 2012-04-11 22:34:15+00:00                1     0.000084   \n",
       "\n",
       "        Hour  Traffic_Weitage        Fare_Km  \n",
       "11301      2         0.022097  667984.103674  \n",
       "14116      3         0.016282  617216.290511  \n",
       "198655    20         0.058736  616348.773783  \n",
       "1531      19         0.063055  593853.871246  \n",
       "163148    22         0.055116  534246.314443  "
      ]
     },
     "execution_count": 49,
     "metadata": {},
     "output_type": "execute_result"
    }
   ],
   "source": [
    "df.sort_values(by='Fare_Km', ascending=False).head()"
   ]
  },
  {
   "cell_type": "code",
   "execution_count": 50,
   "metadata": {
    "colab": {
     "base_uri": "https://localhost:8080/"
    },
    "id": "QXlZH4xK_J9m",
    "outputId": "08e8ec36-0ccf-47cc-ff1e-c6bca1976bb9"
   },
   "outputs": [
    {
     "data": {
      "text/plain": [
       "(72070, 7)"
      ]
     },
     "execution_count": 50,
     "metadata": {},
     "output_type": "execute_result"
    }
   ],
   "source": [
    "# Deleting fare_km>50 and distance_km<0.5. They are outliers\n",
    "condition = (df['Fare_Km'] > 50) & (df['distance_km'] < 0.5)\n",
    "df = df[~condition]\n",
    "df.shape"
   ]
  },
  {
   "cell_type": "code",
   "execution_count": 51,
   "metadata": {
    "colab": {
     "base_uri": "https://localhost:8080/",
     "height": 329
    },
    "id": "mdP6QxdX_J9m",
    "outputId": "b08e9c6f-1051-4289-fc99-54fe7e1826e7"
   },
   "outputs": [
    {
     "data": {
      "text/plain": [
       "<Axes: xlabel='distance_km', ylabel='fare_amount'>"
      ]
     },
     "execution_count": 51,
     "metadata": {},
     "output_type": "execute_result"
    },
    {
     "data": {
      "image/png": "[encoded data removed]",
      "text/plain": [
       "<Figure size 800x300 with 1 Axes>"
      ]
     },
     "metadata": {},
     "output_type": "display_data"
    }
   ],
   "source": [
    "plt.figure(figsize = (8,3))\n",
    "sns.scatterplot(data = df, x = 'distance_km', y = 'fare_amount')"
   ]
  },
  {
   "cell_type": "code",
   "execution_count": 52,
   "metadata": {
    "id": "wQVyBRjrMWgT"
   },
   "outputs": [],
   "source": [
    "# Deleting fare_amount>100 and distance_km<10. They are outliers\n",
    "condition=(df['fare_amount'] > 100) & (df['distance_km'] < 10)\n",
    "df = df[~condition]"
   ]
  },
  {
   "cell_type": "code",
   "execution_count": 53,
   "metadata": {
    "id": "kqcIG0tvRpe4"
   },
   "outputs": [],
   "source": [
    "# Deleting fare_amount>150 and distance_km>50. They are outliers\n",
    "condition = (df['fare_amount'] > 150) & (df['distance_km'] > 50)\n",
    "df = df[~condition]"
   ]
  },
  {
   "cell_type": "code",
   "execution_count": 54,
   "metadata": {
    "colab": {
     "base_uri": "https://localhost:8080/",
     "height": 468
    },
    "id": "hXNUDds1MWkR",
    "outputId": "2d632421-32bb-460f-d152-dc839d072d11"
   },
   "outputs": [
    {
     "data": {
      "text/plain": [
       "<Axes: xlabel='distance_km', ylabel='fare_amount'>"
      ]
     },
     "execution_count": 54,
     "metadata": {},
     "output_type": "execute_result"
    },
    {
     "data": {
      "image/png": "[encoded data removed]",
      "text/plain": [
       "<Figure size 640x480 with 1 Axes>"
      ]
     },
     "metadata": {},
     "output_type": "display_data"
    }
   ],
   "source": [
    "sns.regplot(x='distance_km', y='fare_amount', data=df)"
   ]
  },
  {
   "cell_type": "code",
   "execution_count": 55,
   "metadata": {
    "colab": {
     "base_uri": "https://localhost:8080/",
     "height": 329
    },
    "id": "FmNXC0QhMWmA",
    "outputId": "7ac70c65-a76a-4c7a-d8e4-4e6cc091e48c"
   },
   "outputs": [
    {
     "data": {
      "text/plain": [
       "<Axes: xlabel='distance_km', ylabel='fare_amount'>"
      ]
     },
     "execution_count": 55,
     "metadata": {},
     "output_type": "execute_result"
    },
    {
     "data": {
      "image/png": "[encoded data removed]",
      "text/plain": [
       "<Figure size 800x300 with 1 Axes>"
      ]
     },
     "metadata": {},
     "output_type": "display_data"
    }
   ],
   "source": [
    "plt.figure(figsize = (8,3))\n",
    "sns.scatterplot(data = df, x = 'distance_km', y = 'fare_amount')"
   ]
  },
  {
   "cell_type": "code",
   "execution_count": 56,
   "metadata": {
    "colab": {
     "base_uri": "https://localhost:8080/",
     "height": 269
    },
    "id": "JtDVb4xXMWoA",
    "outputId": "d144f085-d1c0-427d-c7bf-87ee82282eec"
   },
   "outputs": [
    {
     "data": {
      "text/html": [
       "<div>\n",
       "<style scoped>\n",
       "    .dataframe tbody tr th:only-of-type {\n",
       "        vertical-align: middle;\n",
       "    }\n",
       "\n",
       "    .dataframe tbody tr th {\n",
       "        vertical-align: top;\n",
       "    }\n",
       "\n",
       "    .dataframe thead th {\n",
       "        text-align: right;\n",
       "    }\n",
       "</style>\n",
       "<table border=\"1\" class=\"dataframe\">\n",
       "  <thead>\n",
       "    <tr style=\"text-align: right;\">\n",
       "      <th></th>\n",
       "      <th>fare_amount</th>\n",
       "      <th>pickup_datetime</th>\n",
       "      <th>passenger_count</th>\n",
       "      <th>distance_km</th>\n",
       "      <th>Hour</th>\n",
       "      <th>Traffic_Weitage</th>\n",
       "      <th>Fare_Km</th>\n",
       "    </tr>\n",
       "  </thead>\n",
       "  <tbody>\n",
       "    <tr>\n",
       "      <th>fare_amount</th>\n",
       "      <td>1.000000</td>\n",
       "      <td>0.095435</td>\n",
       "      <td>0.007221</td>\n",
       "      <td>0.865596</td>\n",
       "      <td>-0.020000</td>\n",
       "      <td>-0.055798</td>\n",
       "      <td>-0.009215</td>\n",
       "    </tr>\n",
       "    <tr>\n",
       "      <th>pickup_datetime</th>\n",
       "      <td>0.095435</td>\n",
       "      <td>1.000000</td>\n",
       "      <td>0.007534</td>\n",
       "      <td>-0.050902</td>\n",
       "      <td>0.006373</td>\n",
       "      <td>0.007550</td>\n",
       "      <td>0.113492</td>\n",
       "    </tr>\n",
       "    <tr>\n",
       "      <th>passenger_count</th>\n",
       "      <td>0.007221</td>\n",
       "      <td>0.007534</td>\n",
       "      <td>1.000000</td>\n",
       "      <td>0.001854</td>\n",
       "      <td>0.012281</td>\n",
       "      <td>0.008014</td>\n",
       "      <td>0.010614</td>\n",
       "    </tr>\n",
       "    <tr>\n",
       "      <th>distance_km</th>\n",
       "      <td>0.865596</td>\n",
       "      <td>-0.050902</td>\n",
       "      <td>0.001854</td>\n",
       "      <td>1.000000</td>\n",
       "      <td>-0.041984</td>\n",
       "      <td>-0.104752</td>\n",
       "      <td>-0.310038</td>\n",
       "    </tr>\n",
       "    <tr>\n",
       "      <th>Hour</th>\n",
       "      <td>-0.020000</td>\n",
       "      <td>0.006373</td>\n",
       "      <td>0.012281</td>\n",
       "      <td>-0.041984</td>\n",
       "      <td>1.000000</td>\n",
       "      <td>0.777955</td>\n",
       "      <td>0.026051</td>\n",
       "    </tr>\n",
       "    <tr>\n",
       "      <th>Traffic_Weitage</th>\n",
       "      <td>-0.055798</td>\n",
       "      <td>0.007550</td>\n",
       "      <td>0.008014</td>\n",
       "      <td>-0.104752</td>\n",
       "      <td>0.777955</td>\n",
       "      <td>1.000000</td>\n",
       "      <td>0.061969</td>\n",
       "    </tr>\n",
       "    <tr>\n",
       "      <th>Fare_Km</th>\n",
       "      <td>-0.009215</td>\n",
       "      <td>0.113492</td>\n",
       "      <td>0.010614</td>\n",
       "      <td>-0.310038</td>\n",
       "      <td>0.026051</td>\n",
       "      <td>0.061969</td>\n",
       "      <td>1.000000</td>\n",
       "    </tr>\n",
       "  </tbody>\n",
       "</table>\n",
       "</div>"
      ],
      "text/plain": [
       "                 fare_amount  pickup_datetime  passenger_count  distance_km  \\\n",
       "fare_amount         1.000000         0.095435         0.007221     0.865596   \n",
       "pickup_datetime     0.095435         1.000000         0.007534    -0.050902   \n",
       "passenger_count     0.007221         0.007534         1.000000     0.001854   \n",
       "distance_km         0.865596        -0.050902         0.001854     1.000000   \n",
       "Hour               -0.020000         0.006373         0.012281    -0.041984   \n",
       "Traffic_Weitage    -0.055798         0.007550         0.008014    -0.104752   \n",
       "Fare_Km            -0.009215         0.113492         0.010614    -0.310038   \n",
       "\n",
       "                     Hour  Traffic_Weitage   Fare_Km  \n",
       "fare_amount     -0.020000        -0.055798 -0.009215  \n",
       "pickup_datetime  0.006373         0.007550  0.113492  \n",
       "passenger_count  0.012281         0.008014  0.010614  \n",
       "distance_km     -0.041984        -0.104752 -0.310038  \n",
       "Hour             1.000000         0.777955  0.026051  \n",
       "Traffic_Weitage  0.777955         1.000000  0.061969  \n",
       "Fare_Km          0.026051         0.061969  1.000000  "
      ]
     },
     "execution_count": 56,
     "metadata": {},
     "output_type": "execute_result"
    }
   ],
   "source": [
    "df.corr()"
   ]
  },
  {
   "cell_type": "code",
   "execution_count": 57,
   "metadata": {
    "colab": {
     "base_uri": "https://localhost:8080/",
     "height": 558
    },
    "id": "GzlHPlmRMWq6",
    "outputId": "c8502559-46b1-4d03-bfd5-1832eba6cedc"
   },
   "outputs": [
    {
     "data": {
      "text/plain": [
       "<Axes: >"
      ]
     },
     "execution_count": 57,
     "metadata": {},
     "output_type": "execute_result"
    },
    {
     "data": {
      "image/png": "[encoded data removed]",
      "text/plain": [
       "<Figure size 640x480 with 2 Axes>"
      ]
     },
     "metadata": {},
     "output_type": "display_data"
    }
   ],
   "source": [
    "sns.heatmap(df.corr(), annot=True)"
   ]
  },
  {
   "cell_type": "code",
   "execution_count": 58,
   "metadata": {
    "id": "ighHHhtCUQJY"
   },
   "outputs": [],
   "source": [
    "# Create X & y\n",
    "# Create train and test datasets (70-30)%\n",
    "# Train the model on the training set (learn the coefficients)\n",
    "# Evaluate the model"
   ]
  },
  {
   "cell_type": "code",
   "execution_count": 59,
   "metadata": {
    "colab": {
     "base_uri": "https://localhost:8080/",
     "height": 206
    },
    "id": "BhlylZoqnRmj",
    "outputId": "bf739078-6d10-4d50-cdfd-17e2bf6a2b1f"
   },
   "outputs": [
    {
     "data": {
      "text/html": [
       "<div>\n",
       "<style scoped>\n",
       "    .dataframe tbody tr th:only-of-type {\n",
       "        vertical-align: middle;\n",
       "    }\n",
       "\n",
       "    .dataframe tbody tr th {\n",
       "        vertical-align: top;\n",
       "    }\n",
       "\n",
       "    .dataframe thead th {\n",
       "        text-align: right;\n",
       "    }\n",
       "</style>\n",
       "<table border=\"1\" class=\"dataframe\">\n",
       "  <thead>\n",
       "    <tr style=\"text-align: right;\">\n",
       "      <th></th>\n",
       "      <th>fare_amount</th>\n",
       "      <th>pickup_datetime</th>\n",
       "      <th>passenger_count</th>\n",
       "      <th>distance_km</th>\n",
       "      <th>Hour</th>\n",
       "      <th>Traffic_Weitage</th>\n",
       "      <th>Fare_Km</th>\n",
       "    </tr>\n",
       "  </thead>\n",
       "  <tbody>\n",
       "    <tr>\n",
       "      <th>2</th>\n",
       "      <td>12.9</td>\n",
       "      <td>2009-08-24 21:45:00+00:00</td>\n",
       "      <td>1</td>\n",
       "      <td>5.036384</td>\n",
       "      <td>21</td>\n",
       "      <td>0.057286</td>\n",
       "      <td>2.561361</td>\n",
       "    </tr>\n",
       "    <tr>\n",
       "      <th>4</th>\n",
       "      <td>16.0</td>\n",
       "      <td>2014-08-28 17:47:00+00:00</td>\n",
       "      <td>5</td>\n",
       "      <td>4.475456</td>\n",
       "      <td>17</td>\n",
       "      <td>0.048627</td>\n",
       "      <td>3.575055</td>\n",
       "    </tr>\n",
       "    <tr>\n",
       "      <th>6</th>\n",
       "      <td>24.5</td>\n",
       "      <td>2014-10-12 07:04:00+00:00</td>\n",
       "      <td>5</td>\n",
       "      <td>11.731031</td>\n",
       "      <td>7</td>\n",
       "      <td>0.036148</td>\n",
       "      <td>2.088478</td>\n",
       "    </tr>\n",
       "    <tr>\n",
       "      <th>9</th>\n",
       "      <td>12.5</td>\n",
       "      <td>2012-03-29 19:06:00+00:00</td>\n",
       "      <td>1</td>\n",
       "      <td>4.889424</td>\n",
       "      <td>19</td>\n",
       "      <td>0.063055</td>\n",
       "      <td>2.556539</td>\n",
       "    </tr>\n",
       "    <tr>\n",
       "      <th>13</th>\n",
       "      <td>10.9</td>\n",
       "      <td>2011-06-25 11:19:00+00:00</td>\n",
       "      <td>1</td>\n",
       "      <td>3.581256</td>\n",
       "      <td>11</td>\n",
       "      <td>0.047095</td>\n",
       "      <td>3.043625</td>\n",
       "    </tr>\n",
       "  </tbody>\n",
       "</table>\n",
       "</div>"
      ],
      "text/plain": [
       "    fare_amount           pickup_datetime  passenger_count  distance_km  Hour  \\\n",
       "2          12.9 2009-08-24 21:45:00+00:00                1     5.036384    21   \n",
       "4          16.0 2014-08-28 17:47:00+00:00                5     4.475456    17   \n",
       "6          24.5 2014-10-12 07:04:00+00:00                5    11.731031     7   \n",
       "9          12.5 2012-03-29 19:06:00+00:00                1     4.889424    19   \n",
       "13         10.9 2011-06-25 11:19:00+00:00                1     3.581256    11   \n",
       "\n",
       "    Traffic_Weitage   Fare_Km  \n",
       "2          0.057286  2.561361  \n",
       "4          0.048627  3.575055  \n",
       "6          0.036148  2.088478  \n",
       "9          0.063055  2.556539  \n",
       "13         0.047095  3.043625  "
      ]
     },
     "execution_count": 59,
     "metadata": {},
     "output_type": "execute_result"
    }
   ],
   "source": [
    "df.head()"
   ]
  },
  {
   "cell_type": "code",
   "execution_count": 60,
   "metadata": {
    "id": "f5BNkpJFo2zz"
   },
   "outputs": [],
   "source": [
    "df.drop(labels='pickup_datetime', axis=1, inplace=True)"
   ]
  },
  {
   "cell_type": "code",
   "execution_count": 61,
   "metadata": {
    "colab": {
     "base_uri": "https://localhost:8080/",
     "height": 206
    },
    "id": "kxVdxNWco23E",
    "outputId": "a20fecb3-3fcb-4cfd-8e7d-6069c88ff930"
   },
   "outputs": [
    {
     "data": {
      "text/html": [
       "<div>\n",
       "<style scoped>\n",
       "    .dataframe tbody tr th:only-of-type {\n",
       "        vertical-align: middle;\n",
       "    }\n",
       "\n",
       "    .dataframe tbody tr th {\n",
       "        vertical-align: top;\n",
       "    }\n",
       "\n",
       "    .dataframe thead th {\n",
       "        text-align: right;\n",
       "    }\n",
       "</style>\n",
       "<table border=\"1\" class=\"dataframe\">\n",
       "  <thead>\n",
       "    <tr style=\"text-align: right;\">\n",
       "      <th></th>\n",
       "      <th>fare_amount</th>\n",
       "      <th>passenger_count</th>\n",
       "      <th>distance_km</th>\n",
       "      <th>Hour</th>\n",
       "      <th>Traffic_Weitage</th>\n",
       "      <th>Fare_Km</th>\n",
       "    </tr>\n",
       "  </thead>\n",
       "  <tbody>\n",
       "    <tr>\n",
       "      <th>2</th>\n",
       "      <td>12.9</td>\n",
       "      <td>1</td>\n",
       "      <td>5.036384</td>\n",
       "      <td>21</td>\n",
       "      <td>0.057286</td>\n",
       "      <td>2.561361</td>\n",
       "    </tr>\n",
       "    <tr>\n",
       "      <th>4</th>\n",
       "      <td>16.0</td>\n",
       "      <td>5</td>\n",
       "      <td>4.475456</td>\n",
       "      <td>17</td>\n",
       "      <td>0.048627</td>\n",
       "      <td>3.575055</td>\n",
       "    </tr>\n",
       "    <tr>\n",
       "      <th>6</th>\n",
       "      <td>24.5</td>\n",
       "      <td>5</td>\n",
       "      <td>11.731031</td>\n",
       "      <td>7</td>\n",
       "      <td>0.036148</td>\n",
       "      <td>2.088478</td>\n",
       "    </tr>\n",
       "    <tr>\n",
       "      <th>9</th>\n",
       "      <td>12.5</td>\n",
       "      <td>1</td>\n",
       "      <td>4.889424</td>\n",
       "      <td>19</td>\n",
       "      <td>0.063055</td>\n",
       "      <td>2.556539</td>\n",
       "    </tr>\n",
       "    <tr>\n",
       "      <th>13</th>\n",
       "      <td>10.9</td>\n",
       "      <td>1</td>\n",
       "      <td>3.581256</td>\n",
       "      <td>11</td>\n",
       "      <td>0.047095</td>\n",
       "      <td>3.043625</td>\n",
       "    </tr>\n",
       "  </tbody>\n",
       "</table>\n",
       "</div>"
      ],
      "text/plain": [
       "    fare_amount  passenger_count  distance_km  Hour  Traffic_Weitage   Fare_Km\n",
       "2          12.9                1     5.036384    21         0.057286  2.561361\n",
       "4          16.0                5     4.475456    17         0.048627  3.575055\n",
       "6          24.5                5    11.731031     7         0.036148  2.088478\n",
       "9          12.5                1     4.889424    19         0.063055  2.556539\n",
       "13         10.9                1     3.581256    11         0.047095  3.043625"
      ]
     },
     "execution_count": 61,
     "metadata": {},
     "output_type": "execute_result"
    }
   ],
   "source": [
    "df.head()"
   ]
  },
  {
   "cell_type": "code",
   "execution_count": 62,
   "metadata": {
    "id": "a0c4cgtSo26N"
   },
   "outputs": [],
   "source": [
    "X = df.drop(labels='fare_amount', axis=1)\n",
    "y = df['fare_amount']"
   ]
  },
  {
   "cell_type": "code",
   "execution_count": 63,
   "metadata": {
    "colab": {
     "base_uri": "https://localhost:8080/",
     "height": 206
    },
    "id": "hsEam_5To29p",
    "outputId": "b2b15c7d-1722-4f0d-d125-a6c82c05103f"
   },
   "outputs": [
    {
     "data": {
      "text/html": [
       "<div>\n",
       "<style scoped>\n",
       "    .dataframe tbody tr th:only-of-type {\n",
       "        vertical-align: middle;\n",
       "    }\n",
       "\n",
       "    .dataframe tbody tr th {\n",
       "        vertical-align: top;\n",
       "    }\n",
       "\n",
       "    .dataframe thead th {\n",
       "        text-align: right;\n",
       "    }\n",
       "</style>\n",
       "<table border=\"1\" class=\"dataframe\">\n",
       "  <thead>\n",
       "    <tr style=\"text-align: right;\">\n",
       "      <th></th>\n",
       "      <th>passenger_count</th>\n",
       "      <th>distance_km</th>\n",
       "      <th>Hour</th>\n",
       "      <th>Traffic_Weitage</th>\n",
       "      <th>Fare_Km</th>\n",
       "    </tr>\n",
       "  </thead>\n",
       "  <tbody>\n",
       "    <tr>\n",
       "      <th>2</th>\n",
       "      <td>1</td>\n",
       "      <td>5.036384</td>\n",
       "      <td>21</td>\n",
       "      <td>0.057286</td>\n",
       "      <td>2.561361</td>\n",
       "    </tr>\n",
       "    <tr>\n",
       "      <th>4</th>\n",
       "      <td>5</td>\n",
       "      <td>4.475456</td>\n",
       "      <td>17</td>\n",
       "      <td>0.048627</td>\n",
       "      <td>3.575055</td>\n",
       "    </tr>\n",
       "    <tr>\n",
       "      <th>6</th>\n",
       "      <td>5</td>\n",
       "      <td>11.731031</td>\n",
       "      <td>7</td>\n",
       "      <td>0.036148</td>\n",
       "      <td>2.088478</td>\n",
       "    </tr>\n",
       "    <tr>\n",
       "      <th>9</th>\n",
       "      <td>1</td>\n",
       "      <td>4.889424</td>\n",
       "      <td>19</td>\n",
       "      <td>0.063055</td>\n",
       "      <td>2.556539</td>\n",
       "    </tr>\n",
       "    <tr>\n",
       "      <th>13</th>\n",
       "      <td>1</td>\n",
       "      <td>3.581256</td>\n",
       "      <td>11</td>\n",
       "      <td>0.047095</td>\n",
       "      <td>3.043625</td>\n",
       "    </tr>\n",
       "  </tbody>\n",
       "</table>\n",
       "</div>"
      ],
      "text/plain": [
       "    passenger_count  distance_km  Hour  Traffic_Weitage   Fare_Km\n",
       "2                 1     5.036384    21         0.057286  2.561361\n",
       "4                 5     4.475456    17         0.048627  3.575055\n",
       "6                 5    11.731031     7         0.036148  2.088478\n",
       "9                 1     4.889424    19         0.063055  2.556539\n",
       "13                1     3.581256    11         0.047095  3.043625"
      ]
     },
     "execution_count": 63,
     "metadata": {},
     "output_type": "execute_result"
    }
   ],
   "source": [
    "X.head()"
   ]
  },
  {
   "cell_type": "code",
   "execution_count": 64,
   "metadata": {
    "colab": {
     "base_uri": "https://localhost:8080/"
    },
    "id": "_ZikP29uo3AR",
    "outputId": "ca220fc0-d94e-47a5-b517-dc775cb01447"
   },
   "outputs": [
    {
     "data": {
      "text/plain": [
       "2     12.9\n",
       "4     16.0\n",
       "6     24.5\n",
       "9     12.5\n",
       "13    10.9\n",
       "Name: fare_amount, dtype: float64"
      ]
     },
     "execution_count": 64,
     "metadata": {},
     "output_type": "execute_result"
    }
   ],
   "source": [
    "y.head()"
   ]
  },
  {
   "cell_type": "code",
   "execution_count": 65,
   "metadata": {
    "id": "4-TQeL78pxgo"
   },
   "outputs": [],
   "source": [
    "X_train, X_test, y_train, y_test = train_test_split(X, y, test_size=0.3, random_state=0)"
   ]
  },
  {
   "cell_type": "code",
   "execution_count": 66,
   "metadata": {
    "colab": {
     "base_uri": "https://localhost:8080/"
    },
    "id": "bNccOuDcpxkI",
    "outputId": "dbfb559c-faf5-4a96-b6db-1d62441bb212"
   },
   "outputs": [
    {
     "name": "stdout",
     "output_type": "stream",
     "text": [
      "50441\n",
      "21618\n"
     ]
    }
   ],
   "source": [
    "print(len(X_train))\n",
    "print(len(X_test))"
   ]
  },
  {
   "cell_type": "code",
   "execution_count": 67,
   "metadata": {
    "colab": {
     "base_uri": "https://localhost:8080/"
    },
    "id": "5wGfJnuZpxma",
    "outputId": "63fe460d-3596-40b8-9cd8-ebab1e65eae0"
   },
   "outputs": [
    {
     "name": "stdout",
     "output_type": "stream",
     "text": [
      "50441\n",
      "21618\n"
     ]
    }
   ],
   "source": [
    "print(len(y_train))\n",
    "print(len(y_test))"
   ]
  },
  {
   "cell_type": "markdown",
   "metadata": {},
   "source": [
    "### Numerical Predictors - statsmodels\n",
    "#### Model 1"
   ]
  },
  {
   "cell_type": "code",
   "execution_count": 68,
   "metadata": {
    "colab": {
     "base_uri": "https://localhost:8080/"
    },
    "id": "zUps4-4rUQM2",
    "outputId": "8a83189b-590b-403d-874a-0b20e976df75"
   },
   "outputs": [
    {
     "name": "stdout",
     "output_type": "stream",
     "text": [
      "                            OLS Regression Results                            \n",
      "==============================================================================\n",
      "Dep. Variable:            fare_amount   R-squared:                       0.000\n",
      "Model:                            OLS   Adj. R-squared:                  0.000\n",
      "Method:                 Least Squares   F-statistic:                     3.757\n",
      "Date:                Mon, 22 Apr 2024   Prob (F-statistic):             0.0526\n",
      "Time:                        17:50:54   Log-Likelihood:            -2.7900e+05\n",
      "No. Observations:               72059   AIC:                         5.580e+05\n",
      "Df Residuals:                   72057   BIC:                         5.580e+05\n",
      "Df Model:                           1                                         \n",
      "Covariance Type:            nonrobust                                         \n",
      "===================================================================================\n",
      "                      coef    std err          t      P>|t|      [0.025      0.975]\n",
      "-----------------------------------------------------------------------------------\n",
      "Intercept          18.9350      0.071    267.346      0.000      18.796      19.074\n",
      "passenger_count     0.0634      0.033      1.938      0.053      -0.001       0.128\n",
      "==============================================================================\n",
      "Omnibus:                    41851.955   Durbin-Watson:                   2.016\n",
      "Prob(Omnibus):                  0.000   Jarque-Bera (JB):           482702.594\n",
      "Skew:                           2.614   Prob(JB):                         0.00\n",
      "Kurtosis:                      14.552   Cond. No.                         4.05\n",
      "==============================================================================\n",
      "\n",
      "Notes:\n",
      "[1] Standard Errors assume that the covariance matrix of the errors is correctly specified.\n"
     ]
    }
   ],
   "source": [
    "# Create and train a linear regression model for the data and view its summary\n",
    "# Note: The objective is to predict 'fare_amount' using 'passenger_count'\n",
    "# Note: Using all the data for analytical purpose but when building models generally only training data is used\n",
    "lrmodel_1 = smf.ols('fare_amount ~ passenger_count', data=df)\n",
    "lrmodel_1 = lrmodel_1.fit()\n",
    "print(lrmodel_1.summary())"
   ]
  },
  {
   "cell_type": "code",
   "execution_count": null,
   "metadata": {},
   "outputs": [],
   "source": []
  },
  {
   "cell_type": "markdown",
   "metadata": {},
   "source": [
    "#### Model 2"
   ]
  },
  {
   "cell_type": "code",
   "execution_count": 69,
   "metadata": {
    "colab": {
     "base_uri": "https://localhost:8080/"
    },
    "id": "NQt_cBlKsCnd",
    "outputId": "bb618ec1-fdc7-4aa4-fb13-5e72dd1fd325"
   },
   "outputs": [
    {
     "name": "stdout",
     "output_type": "stream",
     "text": [
      "                            OLS Regression Results                            \n",
      "==============================================================================\n",
      "Dep. Variable:            fare_amount   R-squared:                       0.749\n",
      "Model:                            OLS   Adj. R-squared:                  0.749\n",
      "Method:                 Least Squares   F-statistic:                 2.153e+05\n",
      "Date:                Mon, 22 Apr 2024   Prob (F-statistic):               0.00\n",
      "Time:                        17:50:54   Log-Likelihood:            -2.2916e+05\n",
      "No. Observations:               72059   AIC:                         4.583e+05\n",
      "Df Residuals:                   72057   BIC:                         4.583e+05\n",
      "Df Model:                           1                                         \n",
      "Covariance Type:            nonrobust                                         \n",
      "===============================================================================\n",
      "                  coef    std err          t      P>|t|      [0.025      0.975]\n",
      "-------------------------------------------------------------------------------\n",
      "Intercept       5.2994      0.037    144.374      0.000       5.227       5.371\n",
      "distance_km     2.2298      0.005    464.021      0.000       2.220       2.239\n",
      "==============================================================================\n",
      "Omnibus:                    53688.225   Durbin-Watson:                   2.001\n",
      "Prob(Omnibus):                  0.000   Jarque-Bera (JB):          2539509.483\n",
      "Skew:                           3.122   Prob(JB):                         0.00\n",
      "Kurtosis:                      31.404   Cond. No.                         13.1\n",
      "==============================================================================\n",
      "\n",
      "Notes:\n",
      "[1] Standard Errors assume that the covariance matrix of the errors is correctly specified.\n"
     ]
    }
   ],
   "source": [
    "# Create and train a linear regression model for the data and view its summary\n",
    "# Note: The objective is to predict 'fare_amount' using 'distance_km'\n",
    "lrmodel_2 = smf.ols('fare_amount ~ distance_km', data=df)\n",
    "lrmodel_2 = lrmodel_2.fit()\n",
    "print(lrmodel_2.summary())"
   ]
  },
  {
   "cell_type": "code",
   "execution_count": null,
   "metadata": {},
   "outputs": [],
   "source": []
  },
  {
   "cell_type": "markdown",
   "metadata": {},
   "source": [
    "#### Model 3"
   ]
  },
  {
   "cell_type": "code",
   "execution_count": 70,
   "metadata": {},
   "outputs": [
    {
     "name": "stdout",
     "output_type": "stream",
     "text": [
      "                            OLS Regression Results                            \n",
      "==============================================================================\n",
      "Dep. Variable:            fare_amount   R-squared:                       0.000\n",
      "Model:                            OLS   Adj. R-squared:                  0.000\n",
      "Method:                 Least Squares   F-statistic:                     28.84\n",
      "Date:                Mon, 22 Apr 2024   Prob (F-statistic):           7.90e-08\n",
      "Time:                        17:50:54   Log-Likelihood:            -2.7898e+05\n",
      "No. Observations:               72059   AIC:                         5.580e+05\n",
      "Df Residuals:                   72057   BIC:                         5.580e+05\n",
      "Df Model:                           1                                         \n",
      "Covariance Type:            nonrobust                                         \n",
      "==============================================================================\n",
      "                 coef    std err          t      P>|t|      [0.025      0.975]\n",
      "------------------------------------------------------------------------------\n",
      "Intercept     19.5056      0.096    202.544      0.000      19.317      19.694\n",
      "Hour          -0.0347      0.006     -5.370      0.000      -0.047      -0.022\n",
      "==============================================================================\n",
      "Omnibus:                    41863.218   Durbin-Watson:                   2.016\n",
      "Prob(Omnibus):                  0.000   Jarque-Bera (JB):           483004.175\n",
      "Skew:                           2.615   Prob(JB):                         0.00\n",
      "Kurtosis:                      14.555   Cond. No.                         33.3\n",
      "==============================================================================\n",
      "\n",
      "Notes:\n",
      "[1] Standard Errors assume that the covariance matrix of the errors is correctly specified.\n"
     ]
    }
   ],
   "source": [
    "# Create and train a linear regression model for the data and view its summary\n",
    "# Note: The objective is to predict 'fare_amount' using 'Hour'\n",
    "lrmodel_3 = smf.ols('fare_amount ~ Hour', data=df)\n",
    "lrmodel_3 = lrmodel_3.fit()\n",
    "print(lrmodel_3.summary())"
   ]
  },
  {
   "cell_type": "code",
   "execution_count": null,
   "metadata": {},
   "outputs": [],
   "source": []
  },
  {
   "cell_type": "markdown",
   "metadata": {},
   "source": [
    "#### Model 4"
   ]
  },
  {
   "cell_type": "code",
   "execution_count": 71,
   "metadata": {
    "colab": {
     "base_uri": "https://localhost:8080/"
    },
    "id": "8Mb5__BBsDYx",
    "outputId": "cb042c75-0c39-4a8d-dfdc-ad5d4ba41205"
   },
   "outputs": [
    {
     "name": "stdout",
     "output_type": "stream",
     "text": [
      "                            OLS Regression Results                            \n",
      "==============================================================================\n",
      "Dep. Variable:            fare_amount   R-squared:                       0.003\n",
      "Model:                            OLS   Adj. R-squared:                  0.003\n",
      "Method:                 Least Squares   F-statistic:                     225.0\n",
      "Date:                Mon, 22 Apr 2024   Prob (F-statistic):           8.58e-51\n",
      "Time:                        17:50:54   Log-Likelihood:            -2.7888e+05\n",
      "No. Observations:               72059   AIC:                         5.578e+05\n",
      "Df Residuals:                   72057   BIC:                         5.578e+05\n",
      "Df Model:                           1                                         \n",
      "Covariance Type:            nonrobust                                         \n",
      "===================================================================================\n",
      "                      coef    std err          t      P>|t|      [0.025      0.975]\n",
      "-----------------------------------------------------------------------------------\n",
      "Intercept          21.5546      0.173    124.686      0.000      21.216      21.893\n",
      "Traffic_Weitage   -53.8005      3.586    -15.001      0.000     -60.830     -46.771\n",
      "==============================================================================\n",
      "Omnibus:                    41911.124   Durbin-Watson:                   2.015\n",
      "Prob(Omnibus):                  0.000   Jarque-Bera (JB):           487049.303\n",
      "Skew:                           2.616   Prob(JB):                         0.00\n",
      "Kurtosis:                      14.612   Cond. No.                         83.1\n",
      "==============================================================================\n",
      "\n",
      "Notes:\n",
      "[1] Standard Errors assume that the covariance matrix of the errors is correctly specified.\n"
     ]
    }
   ],
   "source": [
    "# Create and train a linear regression model for the data and view its summary\n",
    "# Note: The objective is to predict 'fare_amount' using 'Traffic_Weitage'\n",
    "lrmodel_4 = smf.ols('fare_amount ~ Traffic_Weitage', data=df)\n",
    "lrmodel_4 = lrmodel_4.fit()\n",
    "print(lrmodel_4.summary())"
   ]
  },
  {
   "cell_type": "code",
   "execution_count": null,
   "metadata": {},
   "outputs": [],
   "source": []
  },
  {
   "cell_type": "markdown",
   "metadata": {},
   "source": [
    "#### Model 5"
   ]
  },
  {
   "cell_type": "code",
   "execution_count": 72,
   "metadata": {
    "colab": {
     "base_uri": "https://localhost:8080/"
    },
    "id": "3zPcJnJ2sDbv",
    "outputId": "786dbe6e-7576-4afc-9c4c-05cf5c5085a9"
   },
   "outputs": [
    {
     "name": "stdout",
     "output_type": "stream",
     "text": [
      "                            OLS Regression Results                            \n",
      "==============================================================================\n",
      "Dep. Variable:            fare_amount   R-squared:                       0.000\n",
      "Model:                            OLS   Adj. R-squared:                  0.000\n",
      "Method:                 Least Squares   F-statistic:                     6.120\n",
      "Date:                Mon, 22 Apr 2024   Prob (F-statistic):             0.0134\n",
      "Time:                        17:50:54   Log-Likelihood:            -2.7899e+05\n",
      "No. Observations:               72059   AIC:                         5.580e+05\n",
      "Df Residuals:                   72057   BIC:                         5.580e+05\n",
      "Df Model:                           1                                         \n",
      "Covariance Type:            nonrobust                                         \n",
      "==============================================================================\n",
      "                 coef    std err          t      P>|t|      [0.025      0.975]\n",
      "------------------------------------------------------------------------------\n",
      "Intercept     19.1821      0.071    271.062      0.000      19.043      19.321\n",
      "Fare_Km       -0.0370      0.015     -2.474      0.013      -0.066      -0.008\n",
      "==============================================================================\n",
      "Omnibus:                    41907.158   Durbin-Watson:                   2.016\n",
      "Prob(Omnibus):                  0.000   Jarque-Bera (JB):           484710.118\n",
      "Skew:                           2.618   Prob(JB):                         0.00\n",
      "Kurtosis:                      14.577   Cond. No.                         7.96\n",
      "==============================================================================\n",
      "\n",
      "Notes:\n",
      "[1] Standard Errors assume that the covariance matrix of the errors is correctly specified.\n"
     ]
    }
   ],
   "source": [
    "# Create and train a linear regression model for the data and view its summary\n",
    "# Note: The objective is to predict 'fare_amount' using 'Fare_Km'\n",
    "lrmodel_5 = smf.ols('fare_amount ~ Fare_Km', data=df)\n",
    "lrmodel_5 = lrmodel_5.fit()\n",
    "print(lrmodel_5.summary())"
   ]
  },
  {
   "cell_type": "code",
   "execution_count": null,
   "metadata": {},
   "outputs": [],
   "source": []
  },
  {
   "cell_type": "markdown",
   "metadata": {
    "id": "wOpnnMbrwsXU"
   },
   "source": [
    "### Numerical Predictors - sklearn\n",
    "#### Model 1"
   ]
  },
  {
   "cell_type": "code",
   "execution_count": 73,
   "metadata": {
    "id": "X5gDtWCRUQRO"
   },
   "outputs": [],
   "source": [
    "lr_model_1 = LinearRegression()\n",
    "lr_model_1 = lr_model_1.fit(X=X_train[['passenger_count']], y=y_train)"
   ]
  },
  {
   "cell_type": "code",
   "execution_count": 74,
   "metadata": {
    "colab": {
     "base_uri": "https://localhost:8080/",
     "height": 329
    },
    "id": "29l7wQilwCmG",
    "outputId": "60608e68-1865-499b-86ff-c3c143a7cbde"
   },
   "outputs": [
    {
     "data": {
      "text/plain": [
       "<Axes: xlabel='passenger_count', ylabel='fare_amount'>"
      ]
     },
     "execution_count": 74,
     "metadata": {},
     "output_type": "execute_result"
    },
    {
     "data": {
      "image/png": "[encoded data removed]",
      "text/plain": [
       "<Figure size 800x300 with 1 Axes>"
      ]
     },
     "metadata": {},
     "output_type": "display_data"
    }
   ],
   "source": [
    "plt.figure(figsize = (8,3))\n",
    "sns.regplot(x=X_train[['passenger_count']], y=y_train)"
   ]
  },
  {
   "cell_type": "code",
   "execution_count": 75,
   "metadata": {
    "colab": {
     "base_uri": "https://localhost:8080/"
    },
    "id": "1ibjtcWewCpO",
    "outputId": "5033d1b0-ee17-4464-ae78-befb6cbe2894"
   },
   "outputs": [
    {
     "name": "stdout",
     "output_type": "stream",
     "text": [
      "Intercept : 18.92385919144963\n",
      "Coefficient : 0.06348161054262817\n"
     ]
    }
   ],
   "source": [
    "# Look at the intercept and coefficient values\n",
    "print('Intercept :', lr_model_1.intercept_)\n",
    "print('Coefficient :', lr_model_1.coef_[0])"
   ]
  },
  {
   "cell_type": "markdown",
   "metadata": {},
   "source": [
    "##### The coefficient obtained here as well as the consequent linear model are almost the same as the one we saw before"
   ]
  },
  {
   "cell_type": "code",
   "execution_count": 76,
   "metadata": {
    "colab": {
     "base_uri": "https://localhost:8080/"
    },
    "id": "upOgahlkwCru",
    "outputId": "8f48cc52-36a4-4df4-ded5-7611673dc50e"
   },
   "outputs": [
    {
     "data": {
      "text/plain": [
       "array([18.9873408 , 18.9873408 , 18.9873408 , ..., 19.05082241,\n",
       "       18.9873408 , 18.9873408 ])"
      ]
     },
     "execution_count": 76,
     "metadata": {},
     "output_type": "execute_result"
    }
   ],
   "source": [
    "# Obtain predictions on the testing data set\n",
    "lr_model_1.predict(X_test[['passenger_count']])"
   ]
  },
  {
   "cell_type": "code",
   "execution_count": 77,
   "metadata": {
    "colab": {
     "base_uri": "https://localhost:8080/",
     "height": 206
    },
    "id": "I0Ngx6C6wCt6",
    "outputId": "7bbfb2a3-9edc-4d3f-981a-c03e7074a21d"
   },
   "outputs": [
    {
     "data": {
      "text/html": [
       "<div>\n",
       "<style scoped>\n",
       "    .dataframe tbody tr th:only-of-type {\n",
       "        vertical-align: middle;\n",
       "    }\n",
       "\n",
       "    .dataframe tbody tr th {\n",
       "        vertical-align: top;\n",
       "    }\n",
       "\n",
       "    .dataframe thead th {\n",
       "        text-align: right;\n",
       "    }\n",
       "</style>\n",
       "<table border=\"1\" class=\"dataframe\">\n",
       "  <thead>\n",
       "    <tr style=\"text-align: right;\">\n",
       "      <th></th>\n",
       "      <th>Truths</th>\n",
       "      <th>Predictions</th>\n",
       "    </tr>\n",
       "  </thead>\n",
       "  <tbody>\n",
       "    <tr>\n",
       "      <th>96575</th>\n",
       "      <td>11.3</td>\n",
       "      <td>18.987341</td>\n",
       "    </tr>\n",
       "    <tr>\n",
       "      <th>179699</th>\n",
       "      <td>19.5</td>\n",
       "      <td>18.987341</td>\n",
       "    </tr>\n",
       "    <tr>\n",
       "      <th>52608</th>\n",
       "      <td>10.5</td>\n",
       "      <td>18.987341</td>\n",
       "    </tr>\n",
       "    <tr>\n",
       "      <th>152591</th>\n",
       "      <td>15.7</td>\n",
       "      <td>18.987341</td>\n",
       "    </tr>\n",
       "    <tr>\n",
       "      <th>17045</th>\n",
       "      <td>11.5</td>\n",
       "      <td>18.987341</td>\n",
       "    </tr>\n",
       "  </tbody>\n",
       "</table>\n",
       "</div>"
      ],
      "text/plain": [
       "        Truths  Predictions\n",
       "96575     11.3    18.987341\n",
       "179699    19.5    18.987341\n",
       "52608     10.5    18.987341\n",
       "152591    15.7    18.987341\n",
       "17045     11.5    18.987341"
      ]
     },
     "execution_count": 77,
     "metadata": {},
     "output_type": "execute_result"
    }
   ],
   "source": [
    "# General predictive performance of the model\n",
    "pd.DataFrame(index = X_test.index, data = {'Truths': y_test,\n",
    "                                           'Predictions': lr_model_1.predict(X_test[['passenger_count']])}).head()"
   ]
  },
  {
   "cell_type": "code",
   "execution_count": 78,
   "metadata": {
    "colab": {
     "base_uri": "https://localhost:8080/",
     "height": 112
    },
    "id": "8baYHCg8wCwg",
    "outputId": "3b6b7cbe-2a39-4f72-d5e3-ee8bbf86caae"
   },
   "outputs": [
    {
     "data": {
      "text/html": [
       "<div>\n",
       "<style scoped>\n",
       "    .dataframe tbody tr th:only-of-type {\n",
       "        vertical-align: middle;\n",
       "    }\n",
       "\n",
       "    .dataframe tbody tr th {\n",
       "        vertical-align: top;\n",
       "    }\n",
       "\n",
       "    .dataframe thead th {\n",
       "        text-align: right;\n",
       "    }\n",
       "</style>\n",
       "<table border=\"1\" class=\"dataframe\">\n",
       "  <thead>\n",
       "    <tr style=\"text-align: right;\">\n",
       "      <th></th>\n",
       "      <th>RMSE</th>\n",
       "      <th>MAPE</th>\n",
       "    </tr>\n",
       "    <tr>\n",
       "      <th>Model</th>\n",
       "      <th></th>\n",
       "      <th></th>\n",
       "    </tr>\n",
       "  </thead>\n",
       "  <tbody>\n",
       "    <tr>\n",
       "      <th>SLR passenger_count</th>\n",
       "      <td>11.73</td>\n",
       "      <td>43.5</td>\n",
       "    </tr>\n",
       "  </tbody>\n",
       "</table>\n",
       "</div>"
      ],
      "text/plain": [
       "                      RMSE  MAPE\n",
       "Model                           \n",
       "SLR passenger_count  11.73  43.5"
      ]
     },
     "execution_count": 78,
     "metadata": {},
     "output_type": "execute_result"
    }
   ],
   "source": [
    "# Summarize the performance of the model on the test data using RMSE and MAPE\n",
    "y_pred_lr_list = lr_model_1.predict(X_test[['passenger_count']])\n",
    "rmse = np.sqrt(mean_squared_error(y_true = y_test, y_pred = y_pred_lr_list))\n",
    "mape = np.mean(np.abs(y_test - y_pred_lr_list)/y_test)*100\n",
    "\n",
    "rmse = np.round(rmse,2)\n",
    "mape = np.round(mape,2)\n",
    "\n",
    "performance_df = pd.DataFrame(index=[0],\n",
    "                              data = {'Model': 'SLR passenger_count', 'RMSE': rmse, 'MAPE': mape})\n",
    "performance_df.set_index(keys='Model', inplace=True)\n",
    "performance_df"
   ]
  },
  {
   "cell_type": "markdown",
   "metadata": {
    "id": "sZ9vl1R7yZbq"
   },
   "source": [
    "#### Model 2"
   ]
  },
  {
   "cell_type": "code",
   "execution_count": 79,
   "metadata": {
    "id": "jnLvJ53wyZiA"
   },
   "outputs": [],
   "source": [
    "# Create and train a linear regression model for the data and view its summary\n",
    "# Note: The objective is to predict 'fare_amount' using 'passenger_count'\n",
    "# Note: Using only the training data\n",
    "lr_model_2 = LinearRegression()\n",
    "lr_model_2 = lr_model_2.fit(X_train[['distance_km']], y_train)"
   ]
  },
  {
   "cell_type": "code",
   "execution_count": 80,
   "metadata": {
    "id": "yxhg8aTuyZls"
   },
   "outputs": [
    {
     "data": {
      "text/plain": [
       "<Axes: xlabel='distance_km', ylabel='fare_amount'>"
      ]
     },
     "execution_count": 80,
     "metadata": {},
     "output_type": "execute_result"
    },
    {
     "data": {
      "image/png": "[encoded data removed]",
      "text/plain": [
       "<Figure size 800x300 with 1 Axes>"
      ]
     },
     "metadata": {},
     "output_type": "display_data"
    }
   ],
   "source": [
    "# Create a regression plot for this model\n",
    "plt.figure(figsize = (8,3))\n",
    "sns.regplot(x = X_train[['distance_km']], y=y_train)"
   ]
  },
  {
   "cell_type": "code",
   "execution_count": 81,
   "metadata": {
    "id": "p_peRneXyZo2"
   },
   "outputs": [
    {
     "name": "stdout",
     "output_type": "stream",
     "text": [
      "Intercept:  5.320648742653468\n",
      "Coefficient:  2.227040821706897\n"
     ]
    }
   ],
   "source": [
    "# Look at the intercept and coefficient values\n",
    "print('Intercept: ', lr_model_2.intercept_)\n",
    "print('Coefficient: ', lr_model_2.coef_[0])"
   ]
  },
  {
   "cell_type": "code",
   "execution_count": 82,
   "metadata": {
    "id": "N_FWtiowyZrd"
   },
   "outputs": [
    {
     "data": {
      "text/html": [
       "<div>\n",
       "<style scoped>\n",
       "    .dataframe tbody tr th:only-of-type {\n",
       "        vertical-align: middle;\n",
       "    }\n",
       "\n",
       "    .dataframe tbody tr th {\n",
       "        vertical-align: top;\n",
       "    }\n",
       "\n",
       "    .dataframe thead th {\n",
       "        text-align: right;\n",
       "    }\n",
       "</style>\n",
       "<table border=\"1\" class=\"dataframe\">\n",
       "  <thead>\n",
       "    <tr style=\"text-align: right;\">\n",
       "      <th></th>\n",
       "      <th>RMSE</th>\n",
       "      <th>MAPE</th>\n",
       "    </tr>\n",
       "    <tr>\n",
       "      <th>Model</th>\n",
       "      <th></th>\n",
       "      <th></th>\n",
       "    </tr>\n",
       "  </thead>\n",
       "  <tbody>\n",
       "    <tr>\n",
       "      <th>SLR passenger_count</th>\n",
       "      <td>11.73</td>\n",
       "      <td>43.50</td>\n",
       "    </tr>\n",
       "    <tr>\n",
       "      <th>SLR distance_km</th>\n",
       "      <td>5.88</td>\n",
       "      <td>19.85</td>\n",
       "    </tr>\n",
       "  </tbody>\n",
       "</table>\n",
       "</div>"
      ],
      "text/plain": [
       "                      RMSE   MAPE\n",
       "Model                            \n",
       "SLR passenger_count  11.73  43.50\n",
       "SLR distance_km       5.88  19.85"
      ]
     },
     "execution_count": 82,
     "metadata": {},
     "output_type": "execute_result"
    }
   ],
   "source": [
    "# Summarize the performance of the model on the test data using RMSE and MAPE\n",
    "y_pred_lr_list = lr_model_2.predict(X_test[['distance_km']])\n",
    "rmse = np.sqrt(mean_squared_error(y_true=y_test, y_pred=y_pred_lr_list))\n",
    "mape = np.mean(np.abs(y_test-y_pred_lr_list)/y_test) * 100\n",
    "\n",
    "rmse = np.round(rmse,2)\n",
    "mape = np.round(mape,2)\n",
    "\n",
    "performance_df_temp = pd.DataFrame(index=[0],\n",
    "                                  data={'Model': 'SLR distance_km', 'RMSE': rmse, 'MAPE': mape})\n",
    "\n",
    "performance_df_temp.set_index(keys='Model', inplace=True)\n",
    "performance_df = pd.concat(objs=[performance_df, performance_df_temp])\n",
    "performance_df"
   ]
  },
  {
   "cell_type": "markdown",
   "metadata": {
    "id": "V7Y3DSQCwCzt"
   },
   "source": [
    "### Model 3"
   ]
  },
  {
   "cell_type": "code",
   "execution_count": 83,
   "metadata": {
    "id": "xXjw1UldUQTo"
   },
   "outputs": [],
   "source": [
    "# Create and train a linear regression model for the data and view its summary\n",
    "# Note: The objective is to predict 'fare_amount' using 'passenger_count'\n",
    "# Note: Using only the training data\n",
    "lr_model_3 = LinearRegression()\n",
    "lr_model_3 = lr_model_3.fit(X_train[['Hour']], y_train)"
   ]
  },
  {
   "cell_type": "code",
   "execution_count": 84,
   "metadata": {
    "id": "kcT2PlAOUQWp"
   },
   "outputs": [
    {
     "data": {
      "text/plain": [
       "<Axes: xlabel='Hour', ylabel='fare_amount'>"
      ]
     },
     "execution_count": 84,
     "metadata": {},
     "output_type": "execute_result"
    },
    {
     "data": {
      "image/png": "[encoded data removed]",
      "text/plain": [
       "<Figure size 800x300 with 1 Axes>"
      ]
     },
     "metadata": {},
     "output_type": "display_data"
    }
   ],
   "source": [
    "# Create a regression plot for this model\n",
    "plt.figure(figsize = (8,3))\n",
    "sns.regplot(x = X_train[['Hour']], y=y_train)"
   ]
  },
  {
   "cell_type": "code",
   "execution_count": 85,
   "metadata": {},
   "outputs": [
    {
     "name": "stdout",
     "output_type": "stream",
     "text": [
      "Intercept:  19.46661084810246\n",
      "Coefficient:  -0.032606531128210686\n"
     ]
    }
   ],
   "source": [
    "# Look at the intercept and coefficient values\n",
    "print('Intercept: ', lr_model_3.intercept_)\n",
    "print('Coefficient: ', lr_model_3.coef_[0])"
   ]
  },
  {
   "cell_type": "code",
   "execution_count": 86,
   "metadata": {},
   "outputs": [
    {
     "data": {
      "text/html": [
       "<div>\n",
       "<style scoped>\n",
       "    .dataframe tbody tr th:only-of-type {\n",
       "        vertical-align: middle;\n",
       "    }\n",
       "\n",
       "    .dataframe tbody tr th {\n",
       "        vertical-align: top;\n",
       "    }\n",
       "\n",
       "    .dataframe thead th {\n",
       "        text-align: right;\n",
       "    }\n",
       "</style>\n",
       "<table border=\"1\" class=\"dataframe\">\n",
       "  <thead>\n",
       "    <tr style=\"text-align: right;\">\n",
       "      <th></th>\n",
       "      <th>RMSE</th>\n",
       "      <th>MAPE</th>\n",
       "    </tr>\n",
       "    <tr>\n",
       "      <th>Model</th>\n",
       "      <th></th>\n",
       "      <th></th>\n",
       "    </tr>\n",
       "  </thead>\n",
       "  <tbody>\n",
       "    <tr>\n",
       "      <th>SLR passenger_count</th>\n",
       "      <td>11.73</td>\n",
       "      <td>43.50</td>\n",
       "    </tr>\n",
       "    <tr>\n",
       "      <th>SLR distance_km</th>\n",
       "      <td>5.88</td>\n",
       "      <td>19.85</td>\n",
       "    </tr>\n",
       "    <tr>\n",
       "      <th>SLR Hour</th>\n",
       "      <td>11.73</td>\n",
       "      <td>43.46</td>\n",
       "    </tr>\n",
       "  </tbody>\n",
       "</table>\n",
       "</div>"
      ],
      "text/plain": [
       "                      RMSE   MAPE\n",
       "Model                            \n",
       "SLR passenger_count  11.73  43.50\n",
       "SLR distance_km       5.88  19.85\n",
       "SLR Hour             11.73  43.46"
      ]
     },
     "execution_count": 86,
     "metadata": {},
     "output_type": "execute_result"
    }
   ],
   "source": [
    "# Summarize the performance of the model on the test data using RMSE and MAPE\n",
    "y_pred_lr_list = lr_model_3.predict(X_test[['Hour']])\n",
    "rmse = np.sqrt(mean_squared_error(y_true=y_test, y_pred=y_pred_lr_list))\n",
    "mape = np.mean(np.abs(y_test-y_pred_lr_list)/y_test) * 100\n",
    "\n",
    "rmse = np.round(rmse,2)\n",
    "mape = np.round(mape,2)\n",
    "\n",
    "performance_df_temp = pd.DataFrame(index=[0],\n",
    "                                  data={'Model': 'SLR Hour', 'RMSE': rmse, 'MAPE': mape})\n",
    "\n",
    "performance_df_temp.set_index(keys='Model', inplace=True)\n",
    "performance_df = pd.concat(objs=[performance_df, performance_df_temp])\n",
    "performance_df"
   ]
  },
  {
   "cell_type": "markdown",
   "metadata": {},
   "source": [
    "### Model 4"
   ]
  },
  {
   "cell_type": "code",
   "execution_count": 87,
   "metadata": {},
   "outputs": [],
   "source": [
    "# Create and train a linear regression model for the data and view its summary\n",
    "# Note: The objective is to predict 'fare_amount' using 'passenger_count'\n",
    "# Note: Using only the training data\n",
    "lr_model_4 = LinearRegression()\n",
    "lr_model_4 = lr_model_4.fit(X_train[['Traffic_Weitage']], y_train)"
   ]
  },
  {
   "cell_type": "code",
   "execution_count": 88,
   "metadata": {},
   "outputs": [
    {
     "data": {
      "text/plain": [
       "<Axes: xlabel='Traffic_Weitage', ylabel='fare_amount'>"
      ]
     },
     "execution_count": 88,
     "metadata": {},
     "output_type": "execute_result"
    },
    {
     "data": {
      "image/png": "[encoded data removed]",
      "text/plain": [
       "<Figure size 800x300 with 1 Axes>"
      ]
     },
     "metadata": {},
     "output_type": "display_data"
    }
   ],
   "source": [
    "# Create a regression plot for this model\n",
    "plt.figure(figsize = (8,3))\n",
    "sns.regplot(x = X_train[['Traffic_Weitage']], y=y_train)"
   ]
  },
  {
   "cell_type": "code",
   "execution_count": 89,
   "metadata": {},
   "outputs": [
    {
     "name": "stdout",
     "output_type": "stream",
     "text": [
      "Intercept:  21.516912194962305\n",
      "Coefficient:  -53.23144347261573\n"
     ]
    }
   ],
   "source": [
    "# Look at the intercept and coefficient values\n",
    "print('Intercept: ', lr_model_4.intercept_)\n",
    "print('Coefficient: ', lr_model_4.coef_[0])"
   ]
  },
  {
   "cell_type": "code",
   "execution_count": 90,
   "metadata": {},
   "outputs": [
    {
     "data": {
      "text/html": [
       "<div>\n",
       "<style scoped>\n",
       "    .dataframe tbody tr th:only-of-type {\n",
       "        vertical-align: middle;\n",
       "    }\n",
       "\n",
       "    .dataframe tbody tr th {\n",
       "        vertical-align: top;\n",
       "    }\n",
       "\n",
       "    .dataframe thead th {\n",
       "        text-align: right;\n",
       "    }\n",
       "</style>\n",
       "<table border=\"1\" class=\"dataframe\">\n",
       "  <thead>\n",
       "    <tr style=\"text-align: right;\">\n",
       "      <th></th>\n",
       "      <th>RMSE</th>\n",
       "      <th>MAPE</th>\n",
       "    </tr>\n",
       "    <tr>\n",
       "      <th>Model</th>\n",
       "      <th></th>\n",
       "      <th></th>\n",
       "    </tr>\n",
       "  </thead>\n",
       "  <tbody>\n",
       "    <tr>\n",
       "      <th>SLR passenger_count</th>\n",
       "      <td>11.73</td>\n",
       "      <td>43.50</td>\n",
       "    </tr>\n",
       "    <tr>\n",
       "      <th>SLR distance_km</th>\n",
       "      <td>5.88</td>\n",
       "      <td>19.85</td>\n",
       "    </tr>\n",
       "    <tr>\n",
       "      <th>SLR Hour</th>\n",
       "      <td>11.73</td>\n",
       "      <td>43.46</td>\n",
       "    </tr>\n",
       "    <tr>\n",
       "      <th>SLR Traffic_Weitage</th>\n",
       "      <td>11.71</td>\n",
       "      <td>43.33</td>\n",
       "    </tr>\n",
       "  </tbody>\n",
       "</table>\n",
       "</div>"
      ],
      "text/plain": [
       "                      RMSE   MAPE\n",
       "Model                            \n",
       "SLR passenger_count  11.73  43.50\n",
       "SLR distance_km       5.88  19.85\n",
       "SLR Hour             11.73  43.46\n",
       "SLR Traffic_Weitage  11.71  43.33"
      ]
     },
     "execution_count": 90,
     "metadata": {},
     "output_type": "execute_result"
    }
   ],
   "source": [
    "# Summarize the performance of the model on the test data using RMSE and MAPE\n",
    "y_pred_lr_list = lr_model_4.predict(X_test[['Traffic_Weitage']])\n",
    "rmse = np.sqrt(mean_squared_error(y_true=y_test, y_pred=y_pred_lr_list))\n",
    "mape = np.mean(np.abs(y_test-y_pred_lr_list)/y_test) * 100\n",
    "\n",
    "rmse = np.round(rmse,2)\n",
    "mape = np.round(mape,2)\n",
    "\n",
    "performance_df_temp = pd.DataFrame(index=[0],\n",
    "                                  data={'Model': 'SLR Traffic_Weitage', 'RMSE': rmse, 'MAPE': mape})\n",
    "\n",
    "performance_df_temp.set_index(keys='Model', inplace=True)\n",
    "performance_df = pd.concat(objs=[performance_df, performance_df_temp])\n",
    "performance_df"
   ]
  },
  {
   "cell_type": "markdown",
   "metadata": {},
   "source": [
    "### Model 5"
   ]
  },
  {
   "cell_type": "code",
   "execution_count": 91,
   "metadata": {},
   "outputs": [],
   "source": [
    "# Create and train a linear regression model for the data and view its summary\n",
    "# Note: The objective is to predict 'fare_amount' using 'passenger_count'\n",
    "# Note: Using only the training data\n",
    "lr_model_5 = LinearRegression()\n",
    "lr_model_5 = lr_model_5.fit(X_train[['Fare_Km']], y_train)"
   ]
  },
  {
   "cell_type": "code",
   "execution_count": 92,
   "metadata": {},
   "outputs": [
    {
     "data": {
      "text/plain": [
       "<Axes: xlabel='Fare_Km', ylabel='fare_amount'>"
      ]
     },
     "execution_count": 92,
     "metadata": {},
     "output_type": "execute_result"
    },
    {
     "data": {
      "image/png": "[encoded data removed]",
      "text/plain": [
       "<Figure size 800x300 with 1 Axes>"
      ]
     },
     "metadata": {},
     "output_type": "display_data"
    }
   ],
   "source": [
    "# Create a regression plot for this model\n",
    "plt.figure(figsize = (8,3))\n",
    "sns.regplot(x = X_train[['Fare_Km']], y=y_train)"
   ]
  },
  {
   "cell_type": "code",
   "execution_count": 93,
   "metadata": {},
   "outputs": [
    {
     "name": "stdout",
     "output_type": "stream",
     "text": [
      "Intercept:  19.31016779649253\n",
      "Coefficient:  -0.07445089197929841\n"
     ]
    }
   ],
   "source": [
    "# Look at the intercept and coefficient values\n",
    "print('Intercept: ', lr_model_5.intercept_)\n",
    "print('Coefficient: ', lr_model_5.coef_[0])"
   ]
  },
  {
   "cell_type": "code",
   "execution_count": 94,
   "metadata": {},
   "outputs": [
    {
     "data": {
      "text/html": [
       "<div>\n",
       "<style scoped>\n",
       "    .dataframe tbody tr th:only-of-type {\n",
       "        vertical-align: middle;\n",
       "    }\n",
       "\n",
       "    .dataframe tbody tr th {\n",
       "        vertical-align: top;\n",
       "    }\n",
       "\n",
       "    .dataframe thead th {\n",
       "        text-align: right;\n",
       "    }\n",
       "</style>\n",
       "<table border=\"1\" class=\"dataframe\">\n",
       "  <thead>\n",
       "    <tr style=\"text-align: right;\">\n",
       "      <th></th>\n",
       "      <th>RMSE</th>\n",
       "      <th>MAPE</th>\n",
       "    </tr>\n",
       "    <tr>\n",
       "      <th>Model</th>\n",
       "      <th></th>\n",
       "      <th></th>\n",
       "    </tr>\n",
       "  </thead>\n",
       "  <tbody>\n",
       "    <tr>\n",
       "      <th>SLR passenger_count</th>\n",
       "      <td>11.73</td>\n",
       "      <td>43.50</td>\n",
       "    </tr>\n",
       "    <tr>\n",
       "      <th>SLR distance_km</th>\n",
       "      <td>5.88</td>\n",
       "      <td>19.85</td>\n",
       "    </tr>\n",
       "    <tr>\n",
       "      <th>SLR Hour</th>\n",
       "      <td>11.73</td>\n",
       "      <td>43.46</td>\n",
       "    </tr>\n",
       "    <tr>\n",
       "      <th>SLR Traffic_Weitage</th>\n",
       "      <td>11.71</td>\n",
       "      <td>43.33</td>\n",
       "    </tr>\n",
       "    <tr>\n",
       "      <th>SLR Fare_Km</th>\n",
       "      <td>11.73</td>\n",
       "      <td>43.43</td>\n",
       "    </tr>\n",
       "  </tbody>\n",
       "</table>\n",
       "</div>"
      ],
      "text/plain": [
       "                      RMSE   MAPE\n",
       "Model                            \n",
       "SLR passenger_count  11.73  43.50\n",
       "SLR distance_km       5.88  19.85\n",
       "SLR Hour             11.73  43.46\n",
       "SLR Traffic_Weitage  11.71  43.33\n",
       "SLR Fare_Km          11.73  43.43"
      ]
     },
     "execution_count": 94,
     "metadata": {},
     "output_type": "execute_result"
    }
   ],
   "source": [
    "# Summarize the performance of the model on the test data using RMSE and MAPE\n",
    "y_pred_lr_list = lr_model_5.predict(X_test[['Fare_Km']])\n",
    "rmse = np.sqrt(mean_squared_error(y_true=y_test, y_pred=y_pred_lr_list))\n",
    "mape = np.mean(np.abs(y_test-y_pred_lr_list)/y_test) * 100\n",
    "\n",
    "rmse = np.round(rmse,2)\n",
    "mape = np.round(mape,2)\n",
    "\n",
    "performance_df_temp = pd.DataFrame(index=[0],\n",
    "                                  data={'Model': 'SLR Fare_Km', 'RMSE': rmse, 'MAPE': mape})\n",
    "\n",
    "performance_df_temp.set_index(keys='Model', inplace=True)\n",
    "performance_df = pd.concat(objs=[performance_df, performance_df_temp])\n",
    "performance_df"
   ]
  },
  {
   "cell_type": "markdown",
   "metadata": {},
   "source": [
    "### Out of 5 different models, distance_km has the least RMSE and MAPE values.  It seems that distance_km is a good predictor of fare_amount"
   ]
  },
  {
   "cell_type": "code",
   "execution_count": null,
   "metadata": {},
   "outputs": [],
   "source": []
  }
 ],
 "metadata": {
  "colab": {
   "provenance": []
  },
  "kernelspec": {
   "display_name": "Python 3 (ipykernel)",
   "language": "python",
   "name": "python3"
  },
  "language_info": {
   "codemirror_mode": {
    "name": "ipython",
    "version": 3
   },
   "file_extension": ".py",
   "mimetype": "text/x-python",
   "name": "python",
   "nbconvert_exporter": "python",
   "pygments_lexer": "ipython3",
   "version": "3.11.7"
  }
 },
 "nbformat": 4,
 "nbformat_minor": 4
}
